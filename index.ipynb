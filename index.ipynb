{
 "cells": [
  {
   "cell_type": "markdown",
   "metadata": {},
   "source": [
    "# Gaussian/Normal Distribution - Lab"
   ]
  },
  {
   "cell_type": "markdown",
   "metadata": {},
   "source": [
    "## Introduction\n",
    "\n",
    "In this lab we shall learn how to generate random normal distributions in python. We shall look into visualising a histogram and building a density function using the formula as well as seaborn's built in functions. \n",
    "\n",
    "## Objectives\n",
    "You will be able to:\n",
    "* Generate random normal distributions in python with given parameters\n",
    "* Calculate the density function for normal distributions\n",
    "* Use seaborn to visualize distributions with histograms and density functions"
   ]
  },
  {
   "cell_type": "markdown",
   "metadata": {},
   "source": [
    "## A quick refresher! \n",
    "Here's the formula for calculating normal distribution density function.\n",
    "<img src=\"formula.jpg\" width = 300>"
   ]
  },
  {
   "cell_type": "markdown",
   "metadata": {},
   "source": [
    "#### First generate a normal distribution containing 5000 values with mu=14 and sigma = 2.8"
   ]
  },
  {
   "cell_type": "code",
   "execution_count": 39,
   "metadata": {},
   "outputs": [],
   "source": [
    "# Generate a random normal variable with given parameters , n=5000\n",
    "import numpy as np\n",
    "import matplotlib.pyplot as plt"
   ]
  },
  {
   "cell_type": "code",
   "execution_count": 40,
   "metadata": {
    "collapsed": true
   },
   "outputs": [
    {
     "data": {
      "text/plain": [
       "array([16.6932355 , 12.26278922, 12.51440222, 16.42996458, 12.02330018,\n",
       "        7.17071721, 12.20091915, 12.19592224, 14.41540957, 11.11395101,\n",
       "       15.28339269, 12.71296575, 13.44017343, 12.78923759,  4.97755497,\n",
       "       12.02679223, 14.34406144, 11.43362365, 14.81355492, 14.64992879,\n",
       "        8.71863994, 17.82870155, 16.03565851, 16.93935374, 12.5394564 ,\n",
       "       20.5213506 , 13.50728781, 17.61102201, 14.59397625, 16.97761244,\n",
       "       15.14223572, 10.77874692, 17.88832322, 15.07934192, 19.88054659,\n",
       "       11.78641359, 13.66023412, 11.1719805 , 16.85895704, 17.79263686,\n",
       "       11.25231954, 13.07964987, 12.54091599, 16.21075996, 14.98644424,\n",
       "       15.95050161, 13.66954313, 13.50734903, 11.53816805, 21.47886062,\n",
       "       13.81218402, 17.13117917, 16.86993088, 15.21482628, 17.38310264,\n",
       "       14.76040971, 14.23611488, 16.7235235 , 11.72228132, 16.79780144,\n",
       "       12.67642293, 11.29323249, 13.44956694, 12.07794374, 14.23242386,\n",
       "        9.85554802, 13.13251677, 10.96476117, 17.17771254, 13.83435424,\n",
       "       14.28062903, 13.16554532, 16.94569586, 18.66576616, 13.46432217,\n",
       "       14.32461207, 13.84584805,  9.88944685, 17.54770984, 13.87701607,\n",
       "       12.69376204, 12.15707624, 14.58603361, 10.87437087, 17.84988993,\n",
       "       19.44053328, 15.00542915, 13.39648171, 18.14694465,  8.82801437,\n",
       "       16.83973636, 15.26545021, 12.5702775 , 19.73382793, 12.57312388,\n",
       "       15.54066162, 15.58870563, 15.68895678, 10.44919309,  9.67880662,\n",
       "       17.01352762, 12.12528964, 10.98965089, 14.26583435, 14.25216343,\n",
       "       11.77454522, 16.99538191, 13.29852659, 14.99206934, 12.68720685,\n",
       "       16.7339917 , 16.6922784 , 13.36918206, 14.11445819,  8.35953489,\n",
       "       12.73661813, 11.43770115, 18.50082583, 13.57002331,  8.89477433,\n",
       "       12.87356919, 13.01241119, 14.06561379, 14.22716939, 12.71317676,\n",
       "       15.39460328, 13.73895971, 12.29701556, 13.32939641, 13.68906775,\n",
       "       13.45838446, 10.6248869 , 15.16919491, 12.63889084, 14.74781859,\n",
       "       13.59070666, 10.07160787, 11.88592155, 16.08109969, 13.91119924,\n",
       "       13.26631285, 14.96885038, 15.76369236, 16.27854638, 13.26554276,\n",
       "       14.93661582, 10.96471709, 11.34150892, 17.12499912, 13.31296809,\n",
       "       15.78205739, 16.85631551, 13.18876704, 15.50763783, 16.28023501,\n",
       "       17.8922122 , 11.31490938, 15.84123257, 15.74180143, 12.82894742,\n",
       "       11.8628539 , 16.21137957, 11.66639994, 13.968229  ,  7.15716997,\n",
       "        9.2093145 , 10.13612936, 13.58180313, 19.32005289, 15.75769617,\n",
       "       14.98673329, 14.80589028, 11.90568643, 10.25121584, 18.43272442,\n",
       "       16.4517958 , 16.60418992, 13.38556174, 15.07949055, 18.48237293,\n",
       "        9.71936793, 15.50939766, 14.9649255 , 12.47611357, 14.44385117,\n",
       "       10.43626612, 12.0523111 , 13.71724038, 16.47394755, 14.40537087,\n",
       "       11.43924744, 12.82521214, 14.98768969, 14.17652175,  8.08261868,\n",
       "       15.26862488, 14.27486791, 13.87520987,  8.9848876 , 13.85964404,\n",
       "       17.03499958, 13.37958602, 11.62234037, 19.98354573, 17.23629868,\n",
       "       13.53637727, 16.32453773, 14.39266438, 15.67240241, 12.52365218,\n",
       "       17.01814521, 16.11812793, 17.81430278, 11.12508721, 15.77421207,\n",
       "       15.24174387, 13.72180035, 12.02469358, 15.54603282, 10.58529037,\n",
       "       14.78282409, 17.3451541 , 11.35200618,  9.4936967 , 13.93800161,\n",
       "       14.38222973, 13.00463578, 15.85706607, 16.59815112, 12.51138129,\n",
       "       14.83538991,  8.00984753, 16.72018978, 19.02158903, 11.33419749,\n",
       "       19.10379213, 18.29459301, 13.60359444, 17.51901127, 12.54555187,\n",
       "       17.57660001, 12.7623904 , 11.58615579,  9.66758215, 11.90476813,\n",
       "       12.5126092 , 12.54038967, 15.66605109, 13.95093226, 15.48348246,\n",
       "       13.01996602, 14.93138431, 15.37354148, 12.07435105, 14.3611201 ,\n",
       "       13.2067285 , 14.41953521, 11.82646933, 13.22415077, 10.311306  ,\n",
       "       13.78352091, 14.28896085, 15.09774376, 15.48369255, 11.74423614,\n",
       "       13.56704667, 14.45849406, 15.47157086, 17.52288877, 14.32714734,\n",
       "       12.57178097, 10.89142308, 14.35497496, 13.43546389, 12.64348611,\n",
       "       14.81233017, 14.10302283, 11.47151533, 15.11622482, 11.96078866,\n",
       "       13.64855413, 11.60634347, 13.67236251, 18.85570341, 16.3977611 ,\n",
       "       10.5486985 , 15.1413327 , 14.21559946, 12.97890823, 19.04126796,\n",
       "       16.09183574, 17.31900189, 13.80694864, 15.55136658, 17.66339457,\n",
       "       13.64346999, 13.05811609, 11.98133132, 17.28231882, 10.00853485,\n",
       "       12.24748149, 12.04560977, 14.64710775, 17.44289121, 12.39270604,\n",
       "       14.70082779, 12.43615139, 18.45347296, 12.97629882, 13.42815947,\n",
       "       15.31616873, 14.82149248, 14.49573507, 15.02346851, 10.65323241,\n",
       "       13.61966288, 13.15698569, 17.43805752, 11.87282668, 18.93039958,\n",
       "       13.7165241 , 15.16925416, 13.8876478 , 15.91100531, 11.51465247,\n",
       "       12.06469303, 12.25697626, 17.64154088, 13.42655256, 11.28112879,\n",
       "       13.81233   , 16.68629878,  8.75310036, 12.51810156, 13.36131408,\n",
       "       12.24300681, 14.90123346, 15.81138458, 19.0134945 , 12.49317385,\n",
       "       14.79052256, 10.94331767, 14.52670993, 15.42603395, 11.4121463 ,\n",
       "       14.34151952, 16.57151081, 17.02649793, 18.540621  , 10.80308936,\n",
       "       17.77683538, 13.07537909,  9.71541942, 16.4421372 , 12.72359333,\n",
       "       10.05947034,  7.69817261, 15.13747141, 10.27310574, 12.32827624,\n",
       "       11.47172569, 12.13971048, 16.63455594, 17.12243727, 13.3870405 ,\n",
       "        8.40557558, 16.15926591, 12.89485424, 11.5905637 , 10.392128  ,\n",
       "       14.35450805, 15.56393387, 14.31688046, 18.48595603, 12.1021186 ,\n",
       "       16.8725362 , 17.7367701 , 16.17513391, 18.68046686, 13.05110886,\n",
       "       12.90287563, 16.04593113, 13.6136017 , 14.63400098, 16.66123629,\n",
       "       13.82162108, 14.81078003, 19.09375529,  7.26411502, 10.50180303,\n",
       "       17.41041752, 18.22094562, 15.37717301, 13.72056852, 12.00460578,\n",
       "       12.49337479, 14.53867115, 15.02691838, 14.31516466, 15.17509045,\n",
       "       14.59523988, 16.63867031, 17.59345402, 13.51856518, 14.22881308,\n",
       "       12.88496281, 21.65108369, 13.19223884,  8.06923546, 16.44824982,\n",
       "       15.26928944, 10.2790866 , 13.2417887 , 13.94967011, 16.89576178,\n",
       "       12.32993901, 16.88264517, 12.36699285, 15.21524626, 12.34293853,\n",
       "       17.63242556, 13.2307091 , 10.4249519 , 17.94242478, 11.41797089,\n",
       "       16.88670046, 15.46683645, 14.24099887, 17.89875975, 15.35839764,\n",
       "       15.07678659, 15.58831992, 13.86221682, 11.81599044,  9.2861349 ,\n",
       "       14.08175713, 16.7787052 , 12.65967754, 16.20681021, 16.329196  ,\n",
       "       13.35426612, 18.3515473 , 12.02768094, 14.45055175, 17.37252475,\n",
       "       14.03772686, 15.32591713, 14.8616052 , 16.91747433, 13.45442396,\n",
       "       11.55607665, 22.06581387, 13.07031672, 14.29844441, 16.92492766,\n",
       "       15.72072212, 17.75089844,  8.79412038, 14.35850231, 11.41424453,\n",
       "       19.78563955, 15.01662105, 21.53057402, 12.62996438, 12.97560637,\n",
       "       10.60599157, 16.33632592, 20.27936022, 12.42783762, 14.37273112,\n",
       "       10.6882225 , 14.10816527, 11.14633692, 19.85880437, 12.26826063,\n",
       "       13.44772863, 10.47682389, 10.16778615, 12.93824278, 16.01088283,\n",
       "       17.54768295, 19.14614485, 15.24048296,  7.3559284 ,  7.67728374,\n",
       "       12.17088886, 11.37985292, 16.84148663,  8.66504226,  9.403781  ,\n",
       "       11.70298484, 14.96340857, 15.29706195, 10.45905415, 17.61820105,\n",
       "       11.76973206, 17.52205356, 14.0378869 , 16.04888371, 20.97894759,\n",
       "       20.69059759, 14.29822405, 15.01225946, 18.25151157, 13.03741793,\n",
       "       19.72876876, 14.83878337, 14.2845878 , 11.05974446, 11.6626483 ,\n",
       "        9.25147543, 11.75442105, 11.71606033, 15.85310112,  6.193137  ,\n",
       "       11.77808758, 15.11953175, 15.04182051, 18.17412506, 16.72483544,\n",
       "       19.10515648, 10.31370336, 18.34427882,  7.92840478, 17.50621555,\n",
       "       13.09709724, 16.6373286 , 14.32578479,  8.46862071, 13.08991398,\n",
       "       16.28876922, 18.16320379, 12.21404637, 17.2058994 , 11.44620227,\n",
       "       14.28394069, 11.35667626, 14.27590997, 12.5287066 , 17.1420555 ,\n",
       "       14.33418257, 12.87686762, 14.16892048, 13.94680435, 13.62014627,\n",
       "       15.10439161,  9.15163557, 16.63889897, 14.66397263, 10.2596457 ,\n",
       "        8.42982714, 15.48054829, 12.66251997, 15.44394623, 11.35904489,\n",
       "       10.76454432, 12.9279936 ,  9.4929036 , 13.08623863, 11.24002211,\n",
       "       15.50722745, 14.01256717, 16.23732299, 11.64815016, 12.9965072 ,\n",
       "        8.27481955, 13.34219786,  9.4536207 , 13.54733083, 13.89569985,\n",
       "        9.33360574, 15.77443277, 13.18454428, 13.40381243, 12.93044862,\n",
       "       13.27486561, 19.7196989 , 14.78841679, 13.92258208, 15.93832166,\n",
       "       13.19674033, 14.34242109, 11.71860006, 15.05924421,  9.2115004 ,\n",
       "       16.91139323, 14.37331658, 15.52918864,  8.76136883, 16.66266579,\n",
       "       15.76690093, 18.33136354, 11.71105413,  9.41509082, 15.02245052,\n",
       "       11.19430611, 13.17972563, 13.98339784, 17.8019603 , 15.36707541,\n",
       "       13.45453132, 15.30814886, 14.60803829, 13.98964396, 18.29683849,\n",
       "        8.77883376, 15.00565666, 19.95978223, 17.09910866, 12.46198086,\n",
       "       12.89436043, 11.55374102, 14.673802  , 12.62728909, 12.65713872,\n",
       "       15.76436519, 15.66976892, 13.75498005, 15.75703068, 12.04763448,\n",
       "       16.37812284, 13.57079717, 15.86721631, 14.23586622, 18.11688711,\n",
       "       13.98286759, 16.06692143,  9.83443409, 15.6575504 ,  8.35015183,\n",
       "       13.83576803, 14.00960845, 18.66847104, 10.22015029, 15.01592671,\n",
       "        7.9449665 , 14.34666467, 10.13243115, 13.79416364, 17.75542031,\n",
       "       15.24292182,  8.02056098, 12.16757514, 10.88539877, 20.99621674,\n",
       "        6.2813883 , 11.02973048, 10.34381526, 15.04808252, 11.91742972,\n",
       "       13.12278826, 10.86176117, 14.64924758, 16.96933174, 12.38920158,\n",
       "       14.86524596, 13.95271559, 13.39527609, 14.02265264, 11.10912577,\n",
       "       13.74481082, 16.35398706,  8.46317596, 15.22179952, 21.63492101,\n",
       "       18.99977655, 11.38244782, 15.68704382, 19.28997932, 15.04017325,\n",
       "       14.18298731, 13.97002253, 10.30895511, 11.34646034, 12.89690501,\n",
       "       13.06290047, 15.33509306, 16.00072868, 17.12150402, 10.51034064,\n",
       "       15.12680117, 18.75400869, 11.31244104, 17.84717846, 11.00777747,\n",
       "       16.85119965, 11.34160375, 20.54585268, 16.88863151, 12.4977422 ,\n",
       "       14.60015425, 10.35956436, 14.14604383, 15.5647156 , 14.74691775,\n",
       "       17.34540917, 13.49231117, 10.65792601, 17.17591649, 14.77742959,\n",
       "       19.70699574, 14.46481873, 14.78939849, 17.84596396, 14.23650052,\n",
       "       19.57425836,  9.60787907, 16.63654894,  9.57445402,  8.99352711,\n",
       "       10.68759856, 17.76194696, 14.80704969, 14.60858745, 13.80043662,\n",
       "       17.39962214, 10.88593287, 15.96023928, 15.22688159,  8.33384023,\n",
       "       13.56198792, 18.80101889, 12.95025459, 18.89090846, 19.1804824 ,\n",
       "       12.3089272 , 10.69814088, 19.62493321, 12.56327629, 12.69813348,\n",
       "       12.41036625, 19.09919205, 16.46372979, 11.37796658, 18.12701775,\n",
       "       15.96434756, 17.35988523, 12.44022085, 13.33028758, 12.59016056,\n",
       "       14.52755617, 17.76610297, 16.93068785, 12.21550144, 16.07564803,\n",
       "        9.94673845, 13.50433606, 11.08071912, 17.65331291, 15.03128258,\n",
       "       13.38816412, 15.10412313, 17.39796435, 15.99834561,  8.61904453,\n",
       "       10.2918999 , 14.73506582, 15.22078709,  8.0363766 , 13.49690451,\n",
       "       14.54383967, 13.16341326, 19.81837703, 14.80748049, 17.2182681 ,\n",
       "       12.48306414, 12.38416146, 16.21662314, 14.32656882, 15.83477942,\n",
       "       12.41792932, 14.52766894, 15.65936367, 15.18129042, 13.94987958,\n",
       "       10.04053697, 17.73473681, 15.65803099, 14.47606165, 17.84364321,\n",
       "       13.91062919, 15.38298365, 12.08209208, 14.8682536 , 17.31816397,\n",
       "       13.74614595, 13.34568636, 15.1549593 , 10.50616732, 10.72632239,\n",
       "       13.04923077, 11.48254993, 14.34465697, 14.47605461,  9.67428135,\n",
       "       11.84310764,  9.96263338, 15.70556294,  9.91539214, 12.7359278 ,\n",
       "       17.41847369,  9.43063735, 17.727831  , 15.2237554 , 14.81444147,\n",
       "       15.00070607, 10.75945982,  8.61425756, 16.77061019, 13.89888547,\n",
       "       13.53377786, 13.82180122, 11.59943684, 15.24557037, 15.36569067,\n",
       "       14.75957932, 14.29954314, 13.14917895, 15.43126275, 12.52147169,\n",
       "       17.03143226, 15.67112701, 12.30020276, 17.21633667, 15.78717871,\n",
       "       10.70392235, 14.15387288, 12.7392804 , 14.15640114, 11.64100287,\n",
       "       16.90972323, 18.97726369, 12.35849546, 16.73950167, 14.44373435,\n",
       "       16.0180949 , 15.4505439 ,  9.81689817, 11.86889708, 18.06733064,\n",
       "       17.73280402, 17.5523143 , 12.88985448,  7.14664866, 15.68037889,\n",
       "       18.42908731, 15.14447593, 14.56105025, 18.45583916,  9.6402609 ,\n",
       "       13.23819204, 14.86370978, 14.95487462, 14.39803999, 12.92666493,\n",
       "       10.47289407, 15.08821095, 16.33137107, 12.49055296, 16.14770661,\n",
       "       18.2712136 , 14.92494714, 16.1695023 ,  9.65590309, 21.32555051,\n",
       "       13.41929558, 14.2337386 , 18.99802299, 12.30508763, 12.32007267,\n",
       "       13.5142331 , 14.29752228, 16.88668268, 12.91820416, 13.3582301 ,\n",
       "       17.72883929, 13.12825198, 13.13015979, 14.8586885 ,  8.94386147,\n",
       "       10.22737929, 13.42199759, 12.00641854, 13.50750164, 10.71936774,\n",
       "       13.62412493,  9.95605212, 16.54717733,  9.97796204, 17.05637183,\n",
       "       14.64900014, 10.78247772, 13.99503634, 16.54917513, 18.53956652,\n",
       "       13.90959135, 17.54111917, 15.07221029, 12.49310558,  8.57436558,\n",
       "       13.51445508, 15.91098877, 13.43208963, 15.47101733, 17.45935605,\n",
       "       10.76817967, 15.98141661, 10.75270694, 13.00753074, 10.85783614,\n",
       "       13.29965875, 11.96284377,  8.50483961, 10.53128314, 14.66604944,\n",
       "       16.94154506, 15.13931217, 12.06876683, 13.82182653, 15.5135348 ,\n",
       "       14.51881851, 20.87715548, 13.73833681, 12.59277817, 14.89167081,\n",
       "       16.66654763, 15.29681548,  5.17458683, 14.09879722, 11.81930974,\n",
       "       14.30463091, 11.81306832, 15.87001783, 16.78495089, 14.7928078 ,\n",
       "       11.55105168, 10.52674395, 11.27802507, 14.27461588, 15.84582288,\n",
       "       15.20907967, 17.14292352, 11.2751449 , 16.59190069,  9.13021259,\n",
       "        9.3881562 , 13.40321413, 14.25448053, 15.10998839, 11.8226281 ,\n",
       "       14.01336403, 10.9760776 , 15.16355935, 12.70879253, 13.61597032,\n",
       "       13.1431432 , 11.61261412, 14.25581162, 12.44960165, 17.332505  ,\n",
       "       11.72180195, 12.96514037, 13.00218438, 11.05133319, 13.42008475,\n",
       "       13.14538702, 19.90413477, 13.52373549, 14.56556544, 16.74434036,\n",
       "       12.58455331,  8.69093458, 16.9488094 , 16.66338098, 12.35525003,\n",
       "       16.52252225, 14.75998389, 15.31442953, 10.18882883, 15.83921008,\n",
       "       13.14627152, 13.26873959, 11.33255022, 18.07142915, 11.51533894,\n",
       "       14.52775192, 13.50607493, 13.8270994 , 11.77354461, 17.11637653,\n",
       "       15.64034596, 11.33438246, 14.6412203 , 15.37197196, 10.60416791,\n",
       "       17.70507755, 12.32453903, 14.25416866, 13.86562549, 12.29519461])"
      ]
     },
     "execution_count": 40,
     "metadata": {},
     "output_type": "execute_result"
    }
   ],
   "source": [
    "mu, sigma = 14, 2.8 # mean and standard deviation\n",
    "s = np.random.normal(mu, sigma, 1000)\n",
    "s"
   ]
  },
  {
   "cell_type": "markdown",
   "metadata": {},
   "source": [
    "#### Calculate a normalized histogram for this distribution in matplotlib - use bin size = 20. \n",
    "#### Get the bin positions and count for each bin \n",
    "\n",
    "Refer to [official documentation](https://matplotlib.org/api/_as_gen/matplotlib.pyplot.hist.html) to view input and output options for `plt.hist()`"
   ]
  },
  {
   "cell_type": "code",
   "execution_count": 41,
   "metadata": {
    "collapsed": true
   },
   "outputs": [
    {
     "data": {
      "image/png": "[encoded data removed]",
      "text/plain": [
       "<Figure size 432x288 with 1 Axes>"
      ]
     },
     "metadata": {
      "needs_background": "light"
     },
     "output_type": "display_data"
    }
   ],
   "source": [
    "# Calculate a histogram for above data distribution\n",
    "# count, bins, ignored = plt.hist(s, 4999 , density=True)"
   ]
  },
  {
   "cell_type": "code",
   "execution_count": 24,
   "metadata": {},
   "outputs": [
    {
     "data": {
      "text/plain": [
       "5000"
      ]
     },
     "execution_count": 24,
     "metadata": {},
     "output_type": "execute_result"
    }
   ],
   "source": [
    "len(bins)"
   ]
  },
  {
   "cell_type": "markdown",
   "metadata": {},
   "source": [
    "#### Calculate the density function (using above formula) with mu, sigma and bin information calculated above ."
   ]
  },
  {
   "cell_type": "code",
   "execution_count": 25,
   "metadata": {},
   "outputs": [],
   "source": [
    "# Calculate the normal Density function"
   ]
  },
  {
   "cell_type": "code",
   "execution_count": 26,
   "metadata": {},
   "outputs": [],
   "source": [
    "bla= np.cumsum(s)"
   ]
  },
  {
   "cell_type": "code",
   "execution_count": 27,
   "metadata": {
    "scrolled": false
   },
   "outputs": [
    {
     "data": {
      "text/plain": [
       "5000"
      ]
     },
     "execution_count": 27,
     "metadata": {},
     "output_type": "execute_result"
    }
   ],
   "source": [
    "len(bla)"
   ]
  },
  {
   "cell_type": "code",
   "execution_count": 30,
   "metadata": {},
   "outputs": [
    {
     "data": {
      "text/plain": [
       "5000"
      ]
     },
     "execution_count": 30,
     "metadata": {},
     "output_type": "execute_result"
    }
   ],
   "source": [
    "len(density1)"
   ]
  },
  {
   "cell_type": "code",
   "execution_count": 31,
   "metadata": {},
   "outputs": [],
   "source": [
    "density1 = 1/(sigma * np.sqrt(2 * np.pi)) * np.exp( - (bins - mu)**2 / (2 * sigma**2))"
   ]
  },
  {
   "cell_type": "code",
   "execution_count": 32,
   "metadata": {},
   "outputs": [
    {
     "data": {
      "text/plain": [
       "array([2.78598347e-04, 2.80130695e-04, 2.81670791e-04, ...,\n",
       "       1.85302743e-05, 1.84088863e-05, 1.82882494e-05])"
      ]
     },
     "execution_count": 32,
     "metadata": {},
     "output_type": "execute_result"
    }
   ],
   "source": [
    "density1"
   ]
  },
  {
   "cell_type": "code",
   "execution_count": null,
   "metadata": {},
   "outputs": [],
   "source": []
  },
  {
   "cell_type": "markdown",
   "metadata": {},
   "source": [
    "#### Plot the histogram and density function"
   ]
  },
  {
   "cell_type": "code",
   "execution_count": 50,
   "metadata": {},
   "outputs": [
    {
     "data": {
      "text/plain": [
       "0.0"
      ]
     },
     "execution_count": 50,
     "metadata": {},
     "output_type": "execute_result"
    }
   ],
   "source": [
    "# Plot histogram along with the density function\n",
    "# plt.hist(s, 20, density =True)\n",
    "# plt.plot(bins, density1)\n",
    "import numpy as np\n",
    "import matplotlib.pyplot as plt\n",
    "\n",
    "# some fake data\n",
    "# data = np.random.randn(1000)\n",
    "# evaluate the histogram\n",
    "values = np.arccos([0,1])\n",
    "#evaluate the cumulative\n",
    "# cumulative = np.cumsum(values)\n",
    "# # plot the cumulative function\n",
    "# plt.plot(base[:-1], cumulative, c='blue', )\n",
    "# #plot the survival function\n",
    "# plt.plot(base[:-1], len(s)-cumulative, c='green')\n",
    "\n",
    "# plt.show()\n",
    "base"
   ]
  },
  {
   "cell_type": "code",
   "execution_count": 34,
   "metadata": {
    "scrolled": true
   },
   "outputs": [
    {
     "data": {
      "image/png": "[encoded data removed]",
      "text/plain": [
       "<Figure size 432x288 with 1 Axes>"
      ]
     },
     "metadata": {
      "needs_background": "light"
     },
     "output_type": "display_data"
    }
   ],
   "source": [
    "import matplotlib.pyplot as plt\n",
    "x = np.linspace(0, 1, num=1000)\n",
    "plt.plot(x, np.arcsin(x))\n",
    "plt.axis('tight')\n",
    "plt.show()"
   ]
  },
  {
   "cell_type": "code",
   "execution_count": 69,
   "metadata": {},
   "outputs": [],
   "source": [
    "from math import pi"
   ]
  },
  {
   "cell_type": "code",
   "execution_count": 17,
   "metadata": {},
   "outputs": [],
   "source": [
    "import matplotlib.pyplot as plt"
   ]
  },
  {
   "cell_type": "code",
   "execution_count": 29,
   "metadata": {},
   "outputs": [],
   "source": [
    "import seaborn as sns"
   ]
  },
  {
   "cell_type": "code",
   "execution_count": 35,
   "metadata": {},
   "outputs": [
    {
     "name": "stderr",
     "output_type": "stream",
     "text": [
      "/opt/conda/envs/learn-env/lib/python3.6/site-packages/scipy/stats/stats.py:1713: FutureWarning: Using a non-tuple sequence for multidimensional indexing is deprecated; use `arr[tuple(seq)]` instead of `arr[seq]`. In the future this will be interpreted as an array index, `arr[np.array(seq)]`, which will result either in an error or a different result.\n",
      "  return np.add.reduce(sorted[indexer] * weights, axis=axis) / sumval\n"
     ]
    },
    {
     "data": {
      "text/plain": [
       "<matplotlib.axes._subplots.AxesSubplot at 0x7f4dee76bf98>"
      ]
     },
     "execution_count": 35,
     "metadata": {},
     "output_type": "execute_result"
    },
    {
     "data": {
      "image/png": "[encoded data removed]",
      "text/plain": [
       "<Figure size 432x288 with 1 Axes>"
      ]
     },
     "metadata": {
      "needs_background": "light"
     },
     "output_type": "display_data"
    }
   ],
   "source": [
    "sns.distplot(np.arcsin(np.arange(0,1,.001)))"
   ]
  },
  {
   "cell_type": "code",
   "execution_count": 24,
   "metadata": {
    "scrolled": false
   },
   "outputs": [
    {
     "data": {
      "image/png": "[encoded data removed]",
      "text/plain": [
       "<Figure size 432x288 with 1 Axes>"
      ]
     },
     "metadata": {
      "needs_background": "light"
     },
     "output_type": "display_data"
    }
   ],
   "source": [
    "plt.scatter(np.arange(0,1,.01),np.arccos(np.arange(0,1,.01)));"
   ]
  },
  {
   "cell_type": "code",
   "execution_count": 26,
   "metadata": {},
   "outputs": [
    {
     "data": {
      "text/plain": [
       "[<matplotlib.lines.Line2D at 0x7f4df7382748>]"
      ]
     },
     "execution_count": 26,
     "metadata": {},
     "output_type": "execute_result"
    },
    {
     "data": {
      "image/png": "[encoded data removed]",
      "text/plain": [
       "<Figure size 432x288 with 1 Axes>"
      ]
     },
     "metadata": {
      "needs_background": "light"
     },
     "output_type": "display_data"
    }
   ],
   "source": [
    "plt.plot(np.arccos(np.arange(0,1,.01)))"
   ]
  },
  {
   "cell_type": "code",
   "execution_count": 28,
   "metadata": {},
   "outputs": [
    {
     "data": {
      "text/plain": [
       "(array([ 4.,  4.,  7.,  9., 10., 11., 13., 13., 14., 15.]),\n",
       " array([0.14153947, 0.28446516, 0.42739084, 0.57031653, 0.71324221,\n",
       "        0.8561679 , 0.99909359, 1.14201927, 1.28494496, 1.42787064,\n",
       "        1.57079633]),\n",
       " <a list of 10 Patch objects>)"
      ]
     },
     "execution_count": 28,
     "metadata": {},
     "output_type": "execute_result"
    },
    {
     "data": {
      "image/png": "[encoded data removed]",
      "text/plain": [
       "<Figure size 432x288 with 1 Axes>"
      ]
     },
     "metadata": {
      "needs_background": "light"
     },
     "output_type": "display_data"
    }
   ],
   "source": [
    "plt.hist(np.arccos(np.arange(0,1,.01)))"
   ]
  },
  {
   "cell_type": "code",
   "execution_count": 14,
   "metadata": {},
   "outputs": [
    {
     "data": {
      "text/plain": [
       "array([1.57079633, 1.47062891, 1.36943841, 1.26610367, 1.15927948,\n",
       "       1.04719755, 0.92729522, 0.79539883, 0.64350111, 0.45102681])"
      ]
     },
     "execution_count": 14,
     "metadata": {},
     "output_type": "execute_result"
    }
   ],
   "source": [
    "np.arccos(np.arange(0,1,.1))"
   ]
  },
  {
   "cell_type": "code",
   "execution_count": 10,
   "metadata": {},
   "outputs": [],
   "source": [
    "import numpy as np"
   ]
  },
  {
   "cell_type": "code",
   "execution_count": 13,
   "metadata": {
    "scrolled": true
   },
   "outputs": [
    {
     "data": {
      "text/plain": [
       "array([0. , 0.1, 0.2, 0.3, 0.4, 0.5, 0.6, 0.7, 0.8, 0.9])"
      ]
     },
     "execution_count": 13,
     "metadata": {},
     "output_type": "execute_result"
    }
   ],
   "source": [
    "np.arange(0,1,.1)"
   ]
  },
  {
   "cell_type": "code",
   "execution_count": 82,
   "metadata": {},
   "outputs": [
    {
     "name": "stdout",
     "output_type": "stream",
     "text": [
      "Help on class range in module builtins:\n",
      "\n",
      "class range(object)\n",
      " |  range(stop) -> range object\n",
      " |  range(start, stop[, step]) -> range object\n",
      " |  \n",
      " |  Return an object that produces a sequence of integers from start (inclusive)\n",
      " |  to stop (exclusive) by step.  range(i, j) produces i, i+1, i+2, ..., j-1.\n",
      " |  start defaults to 0, and stop is omitted!  range(4) produces 0, 1, 2, 3.\n",
      " |  These are exactly the valid indices for a list of 4 elements.\n",
      " |  When step is given, it specifies the increment (or decrement).\n",
      " |  \n",
      " |  Methods defined here:\n",
      " |  \n",
      " |  __bool__(self, /)\n",
      " |      self != 0\n",
      " |  \n",
      " |  __contains__(self, key, /)\n",
      " |      Return key in self.\n",
      " |  \n",
      " |  __eq__(self, value, /)\n",
      " |      Return self==value.\n",
      " |  \n",
      " |  __ge__(self, value, /)\n",
      " |      Return self>=value.\n",
      " |  \n",
      " |  __getattribute__(self, name, /)\n",
      " |      Return getattr(self, name).\n",
      " |  \n",
      " |  __getitem__(self, key, /)\n",
      " |      Return self[key].\n",
      " |  \n",
      " |  __gt__(self, value, /)\n",
      " |      Return self>value.\n",
      " |  \n",
      " |  __hash__(self, /)\n",
      " |      Return hash(self).\n",
      " |  \n",
      " |  __iter__(self, /)\n",
      " |      Implement iter(self).\n",
      " |  \n",
      " |  __le__(self, value, /)\n",
      " |      Return self<=value.\n",
      " |  \n",
      " |  __len__(self, /)\n",
      " |      Return len(self).\n",
      " |  \n",
      " |  __lt__(self, value, /)\n",
      " |      Return self<value.\n",
      " |  \n",
      " |  __ne__(self, value, /)\n",
      " |      Return self!=value.\n",
      " |  \n",
      " |  __new__(*args, **kwargs) from builtins.type\n",
      " |      Create and return a new object.  See help(type) for accurate signature.\n",
      " |  \n",
      " |  __reduce__(...)\n",
      " |      helper for pickle\n",
      " |  \n",
      " |  __repr__(self, /)\n",
      " |      Return repr(self).\n",
      " |  \n",
      " |  __reversed__(...)\n",
      " |      Return a reverse iterator.\n",
      " |  \n",
      " |  count(...)\n",
      " |      rangeobject.count(value) -> integer -- return number of occurrences of value\n",
      " |  \n",
      " |  index(...)\n",
      " |      rangeobject.index(value, [start, [stop]]) -> integer -- return index of value.\n",
      " |      Raise ValueError if the value is not present.\n",
      " |  \n",
      " |  ----------------------------------------------------------------------\n",
      " |  Data descriptors defined here:\n",
      " |  \n",
      " |  start\n",
      " |  \n",
      " |  step\n",
      " |  \n",
      " |  stop\n",
      "\n"
     ]
    }
   ],
   "source": [
    "help(range)"
   ]
  },
  {
   "cell_type": "code",
   "execution_count": 78,
   "metadata": {},
   "outputs": [
    {
     "name": "stdout",
     "output_type": "stream",
     "text": [
      "Help on function scatter in module matplotlib.pyplot:\n",
      "\n",
      "scatter(x, y, s=None, c=None, marker=None, cmap=None, norm=None, vmin=None, vmax=None, alpha=None, linewidths=None, verts=None, edgecolors=None, *, data=None, **kwargs)\n",
      "    A scatter plot of *y* vs *x* with varying marker size and/or color.\n",
      "    \n",
      "    Parameters\n",
      "    ----------\n",
      "    x, y : array_like, shape (n, )\n",
      "        The data positions.\n",
      "    \n",
      "    s : scalar or array_like, shape (n, ), optional\n",
      "        The marker size in points**2.\n",
      "        Default is ``rcParams['lines.markersize'] ** 2``.\n",
      "    \n",
      "    c : color, sequence, or sequence of color, optional\n",
      "        The marker color. Possible values:\n",
      "    \n",
      "        - A single color format string.\n",
      "        - A sequence of color specifications of length n.\n",
      "        - A sequence of n numbers to be mapped to colors using *cmap* and\n",
      "          *norm*.\n",
      "        - A 2-D array in which the rows are RGB or RGBA.\n",
      "    \n",
      "        Note that *c* should not be a single numeric RGB or RGBA sequence\n",
      "        because that is indistinguishable from an array of values to be\n",
      "        colormapped. If you want to specify the same RGB or RGBA value for\n",
      "        all points, use a 2-D array with a single row.  Otherwise, value-\n",
      "        matching will have precedence in case of a size matching with *x*\n",
      "        and *y*.\n",
      "    \n",
      "        Defaults to ``None``. In that case the marker color is determined\n",
      "        by the value of ``color``, ``facecolor`` or ``facecolors``. In case\n",
      "        those are not specified or ``None``, the marker color is determined\n",
      "        by the next color of the ``Axes``' current \"shape and fill\" color\n",
      "        cycle. This cycle defaults to :rc:`axes.prop_cycle`.\n",
      "    \n",
      "    marker : `~matplotlib.markers.MarkerStyle`, optional\n",
      "        The marker style. *marker* can be either an instance of the class\n",
      "        or the text shorthand for a particular marker.\n",
      "        Defaults to ``None``, in which case it takes the value of\n",
      "        :rc:`scatter.marker` = 'o'.\n",
      "        See `~matplotlib.markers` for more information about marker styles.\n",
      "    \n",
      "    cmap : `~matplotlib.colors.Colormap`, optional, default: None\n",
      "        A `.Colormap` instance or registered colormap name. *cmap* is only\n",
      "        used if *c* is an array of floats. If ``None``, defaults to rc\n",
      "        ``image.cmap``.\n",
      "    \n",
      "    norm : `~matplotlib.colors.Normalize`, optional, default: None\n",
      "        A `.Normalize` instance is used to scale luminance data to 0, 1.\n",
      "        *norm* is only used if *c* is an array of floats. If *None*, use\n",
      "        the default `.colors.Normalize`.\n",
      "    \n",
      "    vmin, vmax : scalar, optional, default: None\n",
      "        *vmin* and *vmax* are used in conjunction with *norm* to normalize\n",
      "        luminance data. If None, the respective min and max of the color\n",
      "        array is used. *vmin* and *vmax* are ignored if you pass a *norm*\n",
      "        instance.\n",
      "    \n",
      "    alpha : scalar, optional, default: None\n",
      "        The alpha blending value, between 0 (transparent) and 1 (opaque).\n",
      "    \n",
      "    linewidths : scalar or array_like, optional, default: None\n",
      "        The linewidth of the marker edges. Note: The default *edgecolors*\n",
      "        is 'face'. You may want to change this as well.\n",
      "        If *None*, defaults to rcParams ``lines.linewidth``.\n",
      "    \n",
      "    edgecolors : color or sequence of color, optional, default: 'face'\n",
      "        The edge color of the marker. Possible values:\n",
      "    \n",
      "        - 'face': The edge color will always be the same as the face color.\n",
      "        - 'none': No patch boundary will be drawn.\n",
      "        - A matplotib color.\n",
      "    \n",
      "        For non-filled markers, the *edgecolors* kwarg is ignored and\n",
      "        forced to 'face' internally.\n",
      "    \n",
      "    Returns\n",
      "    -------\n",
      "    paths : `~matplotlib.collections.PathCollection`\n",
      "    \n",
      "    Other Parameters\n",
      "    ----------------\n",
      "    **kwargs : `~matplotlib.collections.Collection` properties\n",
      "    \n",
      "    See Also\n",
      "    --------\n",
      "    plot : To plot scatter plots when markers are identical in size and\n",
      "        color.\n",
      "    \n",
      "    Notes\n",
      "    -----\n",
      "    \n",
      "    * The `.plot` function will be faster for scatterplots where markers\n",
      "      don't vary in size or color.\n",
      "    \n",
      "    * Any or all of *x*, *y*, *s*, and *c* may be masked arrays, in which\n",
      "      case all masks will be combined and only unmasked points will be\n",
      "      plotted.\n",
      "    \n",
      "    * Fundamentally, scatter works with 1-D arrays; *x*, *y*, *s*, and *c*\n",
      "      may be input as 2-D arrays, but within scatter they will be\n",
      "      flattened. The exception is *c*, which will be flattened only if its\n",
      "      size matches the size of *x* and *y*.\n",
      "    \n",
      "    .. note::\n",
      "        In addition to the above described arguments, this function can take a\n",
      "        **data** keyword argument. If such a **data** argument is given, the\n",
      "        following arguments are replaced by **data[<arg>]**:\n",
      "    \n",
      "        * All arguments with the following names: 'c', 'color', 'edgecolors', 'facecolor', 'facecolors', 'linewidths', 's', 'x', 'y'.\n",
      "    \n",
      "        Objects passed as **data** must support item access (``data[<arg>]``) and\n",
      "        membership test (``<arg> in data``).\n",
      "\n"
     ]
    }
   ],
   "source": [
    "help(plt.scatter)"
   ]
  },
  {
   "cell_type": "markdown",
   "metadata": {},
   "source": [
    "#### Visualize the distribution using seaborn and plot the KDE"
   ]
  },
  {
   "cell_type": "code",
   "execution_count": 67,
   "metadata": {},
   "outputs": [],
   "source": [
    "import seaborn as sns"
   ]
  },
  {
   "cell_type": "code",
   "execution_count": 68,
   "metadata": {},
   "outputs": [
    {
     "name": "stderr",
     "output_type": "stream",
     "text": [
      "/opt/conda/envs/learn-env/lib/python3.6/site-packages/scipy/stats/stats.py:1713: FutureWarning: Using a non-tuple sequence for multidimensional indexing is deprecated; use `arr[tuple(seq)]` instead of `arr[seq]`. In the future this will be interpreted as an array index, `arr[np.array(seq)]`, which will result either in an error or a different result.\n",
      "  return np.add.reduce(sorted[indexer] * weights, axis=axis) / sumval\n"
     ]
    },
    {
     "data": {
      "image/png": "[encoded data removed]",
      "text/plain": [
       "<Figure size 432x288 with 1 Axes>"
      ]
     },
     "metadata": {
      "needs_background": "light"
     },
     "output_type": "display_data"
    }
   ],
   "source": [
    "sns.distplot(s, bins=20, kde= True);"
   ]
  },
  {
   "cell_type": "code",
   "execution_count": 12,
   "metadata": {},
   "outputs": [
    {
     "data": {
      "text/plain": [
       "<matplotlib.axes._subplots.AxesSubplot at 0x1a19d4cda0>"
      ]
     },
     "execution_count": 12,
     "metadata": {},
     "output_type": "execute_result"
    },
    {
     "data": {
      "image/png": "[encoded data removed]",
      "text/plain": [
       "<matplotlib.figure.Figure at 0x109bb4240>"
      ]
     },
     "metadata": {},
     "output_type": "display_data"
    }
   ],
   "source": []
  },
  {
   "cell_type": "markdown",
   "metadata": {},
   "source": [
    "## Summary\n",
    "\n",
    "In this lab we saw how to generate random normal distributions in python using numpy. We also looked into calculating the density for gaussian distributions using the general formula as well as seaborn's kde. We shall now move on to see how we can analyze such variables for answering analytical questions. "
   ]
  }
 ],
 "metadata": {
  "kernelspec": {
   "display_name": "Python 3",
   "language": "python",
   "name": "python3"
  },
  "language_info": {
   "codemirror_mode": {
    "name": "ipython",
    "version": 3
   },
   "file_extension": ".py",
   "mimetype": "text/x-python",
   "name": "python",
   "nbconvert_exporter": "python",
   "pygments_lexer": "ipython3",
   "version": "3.6.6"
  }
 },
 "nbformat": 4,
 "nbformat_minor": 2
}
