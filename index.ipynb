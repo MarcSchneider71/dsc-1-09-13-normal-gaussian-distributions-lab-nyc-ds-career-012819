{
 "cells": [
  {
   "cell_type": "markdown",
   "metadata": {},
   "source": [
    "# Gaussian/Normal Distribution - Lab"
   ]
  },
  {
   "cell_type": "markdown",
   "metadata": {},
   "source": [
    "## Introduction\n",
    "\n",
    "In this lab we shall learn how to generate random normal distributions in python. We shall look into visualising a histogram and building a density function using the formula as well as seaborn's built in functions. \n",
    "\n",
    "## Objectives\n",
    "You will be able to:\n",
    "* Generate random normal distributions in python with given parameters\n",
    "* Calculate the density function for normal distributions\n",
    "* Use seaborn to visualize distributions with histograms and density functions"
   ]
  },
  {
   "cell_type": "markdown",
   "metadata": {},
   "source": [
    "## A quick refresher! \n",
    "Here's the formula for calculating normal distribution density function.\n",
    "<img src=\"formula.jpg\" width = 300>"
   ]
  },
  {
   "cell_type": "markdown",
   "metadata": {},
   "source": [
    "#### First generate a normal distribution containing 5000 values with mu=14 and sigma = 2.8"
   ]
  },
  {
   "cell_type": "code",
   "execution_count": 84,
   "metadata": {},
   "outputs": [],
   "source": [
    "# Generate a random normal variable with given parameters , n=5000\n",
    "import numpy as np\n",
    "import matplotlib.pyplot as plt"
   ]
  },
  {
   "cell_type": "code",
   "execution_count": 88,
   "metadata": {
    "collapsed": true
   },
   "outputs": [
    {
     "data": {
      "text/plain": [
       "array([14.85402834, 16.5714349 , 15.64194447, 17.14078867, 15.9579983 ,\n",
       "       10.07551953,  2.4549387 , 12.19053872, 11.16674848, 17.68380717,\n",
       "       12.76777864, 16.54364805, 17.42520987, 13.40178158, 13.0655824 ,\n",
       "       13.31555503, 15.86948149, 14.06181372, 15.4609444 , 10.76435757,\n",
       "       15.05478867, 16.45235003, 12.34166672, 16.11158534,  9.25167647,\n",
       "       10.41960244, 16.80589059, 19.77941243, 14.98722109, 13.39349683,\n",
       "       12.65677378, 16.46538769, 13.9323428 , 12.54444626, 11.81138454,\n",
       "       16.7437886 , 10.9912927 , 15.13800363, 12.74096431,  9.19156535,\n",
       "       12.93670767, 12.77458245, 15.22258444,  9.30161429, 12.11210745,\n",
       "       12.52777073, 14.07175111, 16.34885689,  9.75629807, 13.92913257,\n",
       "       14.99876501,  9.0645129 , 13.05735102, 10.5296846 , 15.66423118,\n",
       "       15.97820172, 13.34120486,  8.40676921, 16.37009894, 19.00792266,\n",
       "       19.46870681, 13.42065003,  9.8695109 , 17.2666914 , 12.38707386,\n",
       "       15.69424552, 14.58943048, 13.45600955, 10.83116965, 13.83929381,\n",
       "       14.4312618 , 14.13078673, 15.51013173, 14.96521193, 17.08185434,\n",
       "       16.92886628, 18.14516748, 17.32490137, 17.16547773, 21.05107648,\n",
       "       14.5171768 , 14.52832734, 11.92345397, 10.29070366, 14.61842943,\n",
       "       15.12858981, 13.11644663, 12.13692671, 19.7057604 , 13.54489006,\n",
       "       16.75253232, 14.60457589, 12.12051625, 13.35465875, 14.17426654,\n",
       "       19.50112594, 11.59945339, 15.48579933, 15.96637198, 15.68146358,\n",
       "       15.85491774, 12.79792445, 15.2855412 , 15.97618381, 10.74968074,\n",
       "       14.37924161, 16.39283584, 11.28480319, 15.35583423, 13.14669588,\n",
       "       19.60770112, 14.5239603 , 15.97604019, 12.86141031, 16.75048527,\n",
       "       14.94925324, 19.54595927, 15.26400951, 14.48286814, 12.87029498,\n",
       "       14.06920539, 12.10461829, 10.94934052, 13.900852  , 14.41090959,\n",
       "       16.36785747, 16.45414698, 12.46140987, 13.33680132, 10.53027254,\n",
       "       10.48997719, 12.93028983, 15.58341821, 18.09557136, 15.98672351,\n",
       "       16.41263172, 12.04118475, 11.98456731, 20.11055329, 12.58139582,\n",
       "       13.91892734, 14.01231776,  7.39855475, 14.52453973, 13.15566129,\n",
       "       15.60552255,  7.97173923, 14.9698104 , 20.04957745, 13.21165885,\n",
       "       11.2882441 ,  9.83883321, 14.78724338, 10.35507353, 16.06800972,\n",
       "       15.65763218, 17.42066787, 13.77363555, 16.98631778, 14.80664823,\n",
       "        9.20832498, 12.69008405, 12.20472188, 17.89031471, 12.76839219,\n",
       "       13.42193253, 16.15304489, 10.1323534 , 14.09041915, 17.40580122,\n",
       "       11.06198195, 15.71567146, 18.41703775, 12.5053867 , 10.63214084,\n",
       "       15.60605223, 16.30525345, 15.90023247, 12.50810569, 12.66326166,\n",
       "       12.8790193 , 13.28303395, 16.32708479, 16.23148627, 14.9929594 ,\n",
       "       19.40845694, 16.18610368, 12.01855608, 11.42748874, 10.15179295,\n",
       "        9.38237559, 15.89922176, 18.26683606, 17.27540048, 16.76862627,\n",
       "       17.25474935, 14.07564034, 11.09766771, 11.2619586 , 17.48278492,\n",
       "       13.6322659 , 15.99115673, 16.31096653, 16.236593  , 11.28116717,\n",
       "       16.36551715, 13.73480249, 15.23837336, 15.55169157, 13.14157166,\n",
       "        9.68085422, 12.24483781, 13.02387835, 16.13754492, 16.34800005,\n",
       "       13.28510717, 16.2733888 , 12.78255807, 12.06800942, 15.55082402,\n",
       "       15.5429808 , 16.66485287, 10.44374633, 15.09783421, 18.92135725,\n",
       "       16.33939946, 11.6552697 , 17.91968217, 14.8975387 , 10.90663971,\n",
       "       13.85042438, 16.57390284, 14.06329137, 14.1761978 ,  8.4258315 ,\n",
       "       10.25444267, 14.79357539, 18.30674218,  8.04744016, 10.55274574,\n",
       "       13.57331797, 12.28722665, 13.14377711, 14.36093267, 12.71471329,\n",
       "       18.36329326, 13.95743745, 19.92494035, 17.14335135,  9.36247692,\n",
       "       16.86342142, 12.4442389 ,  8.32011373,  6.607751  , 15.11196522,\n",
       "       13.14581346, 12.98651904,  7.96323519,  9.30310976, 16.17772159,\n",
       "       17.52335798, 13.36169103, 12.72683219, 13.6820374 , 15.05146101,\n",
       "       12.07631473, 15.84690745, 17.40546345,  7.30877874,  9.15025542,\n",
       "       12.53808368, 16.6176262 , 10.40794578, 13.1528901 , 11.88530959,\n",
       "       18.16120765, 12.86469003, 17.59924502, 11.59073447, 11.82461556,\n",
       "       18.64599965, 14.71733709, 10.4481736 , 13.67430563, 12.83671845,\n",
       "       15.82905517, 16.41603893, 14.88212677,  9.21589308, 12.52654096,\n",
       "       13.07776523, 11.23185739, 15.96255395, 16.61720478, 11.78944595,\n",
       "       13.7839016 , 11.26277762, 18.70333422, 15.83066262, 19.66675922,\n",
       "       12.098993  , 14.35535811, 16.58942922, 20.09998089, 12.75867523,\n",
       "       15.48060785, 13.73739421, 16.67817989,  9.52902574, 12.64018834,\n",
       "       17.76135373, 15.3367605 ,  8.07079977,  9.13441925,  9.58463296,\n",
       "       11.94586846, 18.18745362, 14.76315683, 10.96208103, 12.89266571,\n",
       "       12.30261534, 10.81480551, 12.03837268, 13.34479227, 12.1229705 ,\n",
       "       17.43858463, 14.34181727, 17.77264491, 14.69041558, 12.83109873,\n",
       "       15.58869474, 12.02828042, 14.02466479, 14.43896278, 16.40297382,\n",
       "        9.12343633, 14.35904181, 15.86838931, 11.68888623,  8.35965104,\n",
       "       12.17785206, 17.06867802, 16.48781649, 16.59567779,  8.91164438,\n",
       "       24.61746299, 15.45756041, 11.89709057, 16.1835872 , 16.38335667,\n",
       "       11.6302587 , 10.94854614, 13.98990124, 16.68757794, 13.09190528,\n",
       "       16.21086785, 10.97518927, 15.43428726, 13.21056537, 13.79231495,\n",
       "       15.48052421,  9.10152666, 10.97193425, 18.22646649, 12.68585082,\n",
       "       14.71836246, 14.83139735, 13.82242733, 12.91592715, 14.78396608,\n",
       "       11.36657186, 15.46259391, 16.19111017, 10.12353048, 11.62042989,\n",
       "       15.47861646, 20.45750567, 13.65580954, 14.18025893, 12.97671346,\n",
       "       12.40944542, 17.52778053,  8.53894435, 18.53975663, 16.15842612,\n",
       "       12.29422085, 10.59240985, 15.43320025, 15.92180624, 17.71429452,\n",
       "       15.53100719, 15.72870201, 14.9996893 , 16.91865376, 16.65749297,\n",
       "       11.14659506, 17.48014625, 11.34867689, 11.79054367, 10.99364678,\n",
       "       11.91048697, 12.80637779, 14.13654793, 14.40024801,  6.48035223,\n",
       "       13.81565465, 15.14964478,  7.92877638, 15.62157499, 15.75567372,\n",
       "       12.8341219 , 16.32281194, 12.99565597, 14.88673163, 14.11525381,\n",
       "       11.70050745, 18.57965747, 14.2948385 , 17.21968139, 12.22234537,\n",
       "       12.63821958, 13.60388029, 13.54217705, 13.76786902,  8.93510163,\n",
       "       13.82737343, 12.86996341, 17.79965332, 14.05471625, 17.61032651,\n",
       "       14.32598619, 16.78307963, 14.99918101, 11.71407076, 16.02913674,\n",
       "       18.06027048,  9.93810346, 15.93601428, 11.51159118, 11.34767301,\n",
       "       14.91253888, 16.31272086, 16.37718233, 17.94265252, 14.85392025,\n",
       "       11.53817833, 16.40026442, 10.7144611 , 15.60674969,  9.06269497,\n",
       "       14.36674495, 16.41185123,  9.29015322, 15.68185887, 15.99899199,\n",
       "       13.2796653 , 18.73835115, 12.44867568, 17.39940147, 11.67498893,\n",
       "        8.29258464, 15.89582973, 13.86540663, 17.53093069, 11.86832028,\n",
       "       19.70228926, 16.56878799, 15.62603638, 11.36882246, 14.95428458,\n",
       "       16.86707645, 12.52907498, 12.52971872, 14.03537193, 15.95461914,\n",
       "       15.28046543, 16.0941297 , 12.13886766, 11.22107863, 13.84705722,\n",
       "       17.36475898, 19.22954973, 16.28746824,  8.26317758, 13.2120078 ,\n",
       "       17.05358442, 13.80355968, 15.86018363, 17.17933812, 16.04257058,\n",
       "       20.27674574, 14.56212102, 16.26163606, 15.60803348, 14.21532884,\n",
       "       16.10728142, 15.74846131, 14.40478172, 12.52787369, 15.83890346,\n",
       "       17.11412121, 16.56559643, 15.51307924, 15.65458726, 16.58213499,\n",
       "       13.43081187, 12.81219386, 17.41020476, 20.48850074, 13.32151597,\n",
       "       13.01321637, 11.46123091, 10.77261281, 14.8079249 , 15.55912325,\n",
       "       13.54975347, 11.38069922, 14.42013821, 15.82823653, 10.34894905,\n",
       "       14.98787382, 11.81603309, 13.95437973, 11.79035354, 17.26458245,\n",
       "       10.33737164, 10.37895771, 13.70184435, 10.1629397 , 19.91387182,\n",
       "       14.52644575, 11.91331464, 12.45283697, 18.30315284, 13.61784702,\n",
       "       15.69479086, 16.90335721, 13.25243629, 15.46835106, 12.83515166,\n",
       "       13.77492783,  9.04841543, 14.21626658, 17.21891507, 13.66213362,\n",
       "       13.60186634, 18.30712945, 13.37021125, 11.17339425, 17.06766975,\n",
       "       14.56973497, 15.11529798, 15.47233581, 15.46449668, 18.53104344,\n",
       "       14.32574395, 16.11664818, 11.92707595, 15.28709637, 18.75407631,\n",
       "       12.36209735, 15.52713042, 13.23259294,  7.82191414, 12.91462196,\n",
       "       14.93396958, 18.6430666 , 15.42333523, 10.78508867, 17.17016683,\n",
       "       13.03393712, 12.79519463, 16.84286061, 18.7294605 , 11.74159518,\n",
       "       10.88638447, 13.2336731 , 19.45753369, 12.45583942, 13.91489018,\n",
       "       14.01342203, 13.92898928, 16.60613106, 15.81618861, 12.8925376 ,\n",
       "        9.19993963, 13.63192725, 17.51143624, 13.62877079, 17.97454862,\n",
       "       15.38978287, 11.88740451, 17.89020748, 12.38747294, 12.42811554,\n",
       "       15.82403655, 16.83130407, 14.30638001, 15.11953296,  8.52023445,\n",
       "       15.03932355, 12.53133344, 18.45393446, 15.73727251, 14.41240756,\n",
       "       11.82454773, 10.76074159, 11.52016543, 15.52018091, 17.1527707 ,\n",
       "       17.28821532, 13.83818681, 16.56827174, 15.94702246, 16.21410518,\n",
       "       12.14057354, 15.5784458 , 11.67176755, 14.54214897, 14.42471095,\n",
       "        7.24509113, 12.64191352, 12.45171628, 15.92944472,  6.15975256,\n",
       "       14.04163629, 15.93001719,  8.66262659, 13.96558037, 13.68042851,\n",
       "       17.74331545, 10.67033137, 12.95038424, 14.57948194, 13.25111162,\n",
       "       14.14739413, 12.54454533, 13.32483941, 18.15206251, 12.91251364,\n",
       "       12.27738848, 13.15759658, 10.84727789, 12.26232742,  9.30884992,\n",
       "       14.4546657 ,  9.38907085, 13.5241427 , 14.7693735 , 16.98459378,\n",
       "       11.71536023,  7.47078226, 14.21421156, 17.85687522,  9.99495674,\n",
       "       11.57011776, 10.86393069, 13.4531158 , 15.89803543, 15.98574887,\n",
       "       16.05674442, 11.02305089, 17.50618647, 13.15884623, 16.73368781,\n",
       "       16.92401215, 11.5118968 , 18.54294707, 11.32333964, 13.97849505,\n",
       "       10.10075832, 11.33676088, 13.06725378,  8.50749183, 13.0105477 ,\n",
       "        7.33093109, 14.25622964, 14.90896279, 13.72584635,  8.80610063,\n",
       "       15.21902579, 17.19132528, 17.17217136, 12.40499664, 17.37055227,\n",
       "       14.06710983, 11.37796815,  9.50067153, 17.84361259, 18.55686086,\n",
       "       18.72117114, 16.71109282, 13.45560201, 14.69052466, 11.05615738,\n",
       "       18.67242499, 14.29474976, 17.30093519, 13.4398281 , 11.58004451,\n",
       "       11.135958  , 16.56579743, 13.38665317, 17.92866024, 10.79774864,\n",
       "       10.40378046, 14.57400309,  8.06899154, 15.80850754, 14.6976977 ,\n",
       "       14.01942358, 18.71982939, 16.17632294, 14.28380099, 14.62017358,\n",
       "       14.31876266, 15.4847676 , 14.23818098, 12.9930632 , 11.68027573,\n",
       "       17.34480196, 16.75580141, 14.76491801, 13.27148116, 12.10344791,\n",
       "       14.20857553, 13.37684934, 15.9038068 , 14.18306002, 15.62656342,\n",
       "       13.7983134 , 14.53535317, 12.45539047, 17.98374846, 13.78214247,\n",
       "       12.92625437, 14.79201302, 13.37187283,  9.98695599, 12.99677083,\n",
       "       12.02195267, 21.57562543, 17.9357617 , 14.04677441, 15.79677544,\n",
       "       14.33048353, 14.10601484,  8.65311625, 13.47030206, 12.34834093,\n",
       "       16.66970251, 12.23314572, 12.45675352, 14.43695435, 19.00003222,\n",
       "       15.19942716, 14.2731593 , 14.02982847, 15.32570258, 12.96728917,\n",
       "       17.41371654, 15.12121486, 16.23523379, 16.2537206 , 13.32583365,\n",
       "       11.82399844, 14.26433124, 15.35955883,  9.89509745, 15.35874055,\n",
       "       12.22479848, 14.46957839, 13.37874742, 12.23957136,  9.98579221,\n",
       "       11.05320811, 16.07140994,  9.68724623, 13.95707597, 13.09425716,\n",
       "       18.67236997, 12.15367217, 11.49218639, 13.7043615 ,  9.23235921,\n",
       "       12.02663775, 17.80933578, 12.60613104, 12.02650061, 11.45634344,\n",
       "       14.15415444, 16.57272318, 16.35235107, 14.96493393, 13.95208392,\n",
       "       11.81615481, 11.1415562 ,  7.90884334, 14.33986016, 16.7075198 ,\n",
       "        6.99975297, 16.96174028, 15.69778569, 11.35568257,  7.74817286,\n",
       "       12.50675337, 10.85289237, 13.06598   , 10.5128449 , 17.83826791,\n",
       "       16.25421052, 11.15108254, 15.32586455, 12.22236252, 13.82449542,\n",
       "       14.03175604, 17.47585222, 13.71276442, 14.014603  , 17.61671991,\n",
       "       17.40652739, 14.40593264,  9.6311444 , 17.40359493, 20.03924011,\n",
       "       15.4168873 , 13.50811391, 10.86335861, 13.98615832, 17.6043865 ,\n",
       "       16.50568087, 15.88584841, 15.9449257 , 12.73752191, 11.81345885,\n",
       "       11.24094332, 15.0058393 , 12.26904539, 17.05099043,  7.01481311,\n",
       "       11.25058746, 17.44730613, 14.09514969, 10.19863342, 12.5743424 ,\n",
       "       22.105742  , 14.28502976, 13.07488736, 13.06304484, 15.7951888 ,\n",
       "       15.76236737, 12.11994165, 12.02924714, 11.01011214, 13.70392164,\n",
       "       12.49234988, 14.00228669,  9.73074707, 15.50477704, 15.67412962,\n",
       "        9.25035471, 14.58816586, 10.04275796,  8.81965363, 12.09831381,\n",
       "        9.57081545, 13.84271809,  8.26260797, 20.19261991, 10.78814326,\n",
       "       11.22848283, 11.27418938, 14.86694416, 17.75111948, 14.50368325,\n",
       "       10.39515708, 15.12077902, 17.65283173, 11.73749655, 15.60115475,\n",
       "        7.1780309 , 10.79465458, 11.38926485, 12.29381731, 13.27458845,\n",
       "       12.68368935, 14.40682047, 11.40074438, 15.80361209, 12.57115429,\n",
       "       16.04960531, 15.05697045, 12.59032869, 13.83981867, 11.60370778,\n",
       "        9.45962701, 13.72306319, 12.01429536, 13.88381406, 17.83311986,\n",
       "       15.0565018 , 14.68796738, 13.25026063, 15.22903682, 12.00996743,\n",
       "       13.70089659, 10.65737565,  9.27521979, 14.15713783, 14.32722194,\n",
       "       15.41376226, 12.48376276, 15.35618252, 19.37777065, 12.85223003,\n",
       "       15.14858738, 12.3835577 , 15.77257414, 14.51583014, 18.22280138,\n",
       "       10.87057066, 13.21732787, 14.50855329, 11.91533749, 15.0001243 ,\n",
       "       14.32820642, 13.27796731,  8.95927697, 14.0124022 , 11.39325628,\n",
       "        9.78083629, 16.34795355, 11.71529419, 15.91852117, 14.06419885,\n",
       "       17.84967784,  8.19438288, 15.04321581, 14.52062628, 15.75766974,\n",
       "       14.05161937, 18.05186815, 12.94358145, 13.09534157, 18.08429803,\n",
       "       14.4496816 , 10.12923992, 14.93031088, 16.57899374, 16.0642738 ,\n",
       "       14.91400856, 18.04348555, 15.59605911, 10.62923107, 13.76427547,\n",
       "       14.32898165, 14.64780279, 14.16650973, 15.42338995, 17.13813482,\n",
       "       17.2924696 , 16.55099882, 12.56340494, 16.01201491, 14.88845896,\n",
       "       13.36930952, 17.54878888, 15.15894784, 16.41717172, 15.10402518,\n",
       "       14.28911011, 13.26728715, 16.62045449, 12.51440951, 14.3408211 ,\n",
       "       15.94258608, 17.19626238, 18.93370828, 13.68584321, 13.7821909 ,\n",
       "       13.18521833, 18.33708248, 14.84353407, 19.54606961, 12.18888766,\n",
       "       14.24428895, 15.09744995, 16.25758804, 11.82365802, 14.44547123,\n",
       "       12.06348883, 14.5603068 , 17.66250671, 14.75153856, 12.59153474,\n",
       "        9.81461106, 13.82011417, 15.22470273, 16.31437755, 14.88151477])"
      ]
     },
     "execution_count": 88,
     "metadata": {},
     "output_type": "execute_result"
    }
   ],
   "source": [
    "mu, sigma = 14, 2.8 # mean and standard deviation\n",
    "s = np.random.normal(mu, sigma, 1000)\n",
    "s"
   ]
  },
  {
   "cell_type": "markdown",
   "metadata": {},
   "source": [
    "#### Calculate a normalized histogram for this distribution in matplotlib - use bin size = 20. \n",
    "#### Get the bin positions and count for each bin \n",
    "\n",
    "Refer to [official documentation](https://matplotlib.org/api/_as_gen/matplotlib.pyplot.hist.html) to view input and output options for `plt.hist()`"
   ]
  },
  {
   "cell_type": "code",
   "execution_count": 90,
   "metadata": {},
   "outputs": [
    {
     "data": {
      "image/png": "[encoded data removed]",
      "text/plain": [
       "<Figure size 432x288 with 1 Axes>"
      ]
     },
     "metadata": {
      "needs_background": "light"
     },
     "output_type": "display_data"
    }
   ],
   "source": [
    "# Calculate a histogram for above data distribution\n",
    "count, bins, ignored = plt.hist(s, bins=20)"
   ]
  },
  {
   "cell_type": "markdown",
   "metadata": {},
   "source": [
    "#### Calculate the density function (using above formula) with mu, sigma and bin information calculated above ."
   ]
  },
  {
   "cell_type": "code",
   "execution_count": 93,
   "metadata": {},
   "outputs": [
    {
     "ename": "ValueError",
     "evalue": "x and y must have same first dimension, but have shapes (21,) and (1000,)",
     "output_type": "error",
     "traceback": [
      "\u001b[0;31m\u001b[0m",
      "\u001b[0;31mValueError\u001b[0mTraceback (most recent call last)",
      "\u001b[0;32m<ipython-input-93-ff02471ee9e6>\u001b[0m in \u001b[0;36m<module>\u001b[0;34m()\u001b[0m\n\u001b[1;32m      1\u001b[0m \u001b[0;31m# Calculate the normal Density function\u001b[0m\u001b[0;34m\u001b[0m\u001b[0;34m\u001b[0m\u001b[0m\n\u001b[1;32m      2\u001b[0m \u001b[0mplt\u001b[0m\u001b[0;34m.\u001b[0m\u001b[0mhist\u001b[0m\u001b[0;34m(\u001b[0m\u001b[0ms\u001b[0m\u001b[0;34m,\u001b[0m \u001b[0;36m20\u001b[0m\u001b[0;34m,\u001b[0m \u001b[0mdensity\u001b[0m \u001b[0;34m=\u001b[0m\u001b[0;32mTrue\u001b[0m\u001b[0;34m)\u001b[0m\u001b[0;34m\u001b[0m\u001b[0m\n\u001b[0;32m----> 3\u001b[0;31m \u001b[0mplt\u001b[0m\u001b[0;34m.\u001b[0m\u001b[0mplot\u001b[0m\u001b[0;34m(\u001b[0m\u001b[0mbins\u001b[0m\u001b[0;34m,\u001b[0m \u001b[0ms\u001b[0m\u001b[0;34m)\u001b[0m\u001b[0;34m\u001b[0m\u001b[0m\n\u001b[0m\u001b[1;32m      4\u001b[0m \u001b[0mplt\u001b[0m\u001b[0;34m.\u001b[0m\u001b[0mshow\u001b[0m\u001b[0;34m(\u001b[0m\u001b[0;34m)\u001b[0m\u001b[0;34m\u001b[0m\u001b[0m\n",
      "\u001b[0;32m/opt/conda/envs/learn-env/lib/python3.6/site-packages/matplotlib/pyplot.py\u001b[0m in \u001b[0;36mplot\u001b[0;34m(scalex, scaley, data, *args, **kwargs)\u001b[0m\n\u001b[1;32m   2811\u001b[0m     return gca().plot(\n\u001b[1;32m   2812\u001b[0m         *args, scalex=scalex, scaley=scaley, **({\"data\": data} if data\n\u001b[0;32m-> 2813\u001b[0;31m         is not None else {}), **kwargs)\n\u001b[0m\u001b[1;32m   2814\u001b[0m \u001b[0;34m\u001b[0m\u001b[0m\n\u001b[1;32m   2815\u001b[0m \u001b[0;34m\u001b[0m\u001b[0m\n",
      "\u001b[0;32m/opt/conda/envs/learn-env/lib/python3.6/site-packages/matplotlib/__init__.py\u001b[0m in \u001b[0;36minner\u001b[0;34m(ax, data, *args, **kwargs)\u001b[0m\n\u001b[1;32m   1808\u001b[0m                         \u001b[0;34m\"the Matplotlib list!)\"\u001b[0m \u001b[0;34m%\u001b[0m \u001b[0;34m(\u001b[0m\u001b[0mlabel_namer\u001b[0m\u001b[0;34m,\u001b[0m \u001b[0mfunc\u001b[0m\u001b[0;34m.\u001b[0m\u001b[0m__name__\u001b[0m\u001b[0;34m)\u001b[0m\u001b[0;34m,\u001b[0m\u001b[0;34m\u001b[0m\u001b[0m\n\u001b[1;32m   1809\u001b[0m                         RuntimeWarning, stacklevel=2)\n\u001b[0;32m-> 1810\u001b[0;31m             \u001b[0;32mreturn\u001b[0m \u001b[0mfunc\u001b[0m\u001b[0;34m(\u001b[0m\u001b[0max\u001b[0m\u001b[0;34m,\u001b[0m \u001b[0;34m*\u001b[0m\u001b[0margs\u001b[0m\u001b[0;34m,\u001b[0m \u001b[0;34m**\u001b[0m\u001b[0mkwargs\u001b[0m\u001b[0;34m)\u001b[0m\u001b[0;34m\u001b[0m\u001b[0m\n\u001b[0m\u001b[1;32m   1811\u001b[0m \u001b[0;34m\u001b[0m\u001b[0m\n\u001b[1;32m   1812\u001b[0m         inner.__doc__ = _add_data_doc(inner.__doc__,\n",
      "\u001b[0;32m/opt/conda/envs/learn-env/lib/python3.6/site-packages/matplotlib/axes/_axes.py\u001b[0m in \u001b[0;36mplot\u001b[0;34m(self, scalex, scaley, *args, **kwargs)\u001b[0m\n\u001b[1;32m   1609\u001b[0m         \u001b[0mkwargs\u001b[0m \u001b[0;34m=\u001b[0m \u001b[0mcbook\u001b[0m\u001b[0;34m.\u001b[0m\u001b[0mnormalize_kwargs\u001b[0m\u001b[0;34m(\u001b[0m\u001b[0mkwargs\u001b[0m\u001b[0;34m,\u001b[0m \u001b[0mmlines\u001b[0m\u001b[0;34m.\u001b[0m\u001b[0mLine2D\u001b[0m\u001b[0;34m.\u001b[0m\u001b[0m_alias_map\u001b[0m\u001b[0;34m)\u001b[0m\u001b[0;34m\u001b[0m\u001b[0m\n\u001b[1;32m   1610\u001b[0m \u001b[0;34m\u001b[0m\u001b[0m\n\u001b[0;32m-> 1611\u001b[0;31m         \u001b[0;32mfor\u001b[0m \u001b[0mline\u001b[0m \u001b[0;32min\u001b[0m \u001b[0mself\u001b[0m\u001b[0;34m.\u001b[0m\u001b[0m_get_lines\u001b[0m\u001b[0;34m(\u001b[0m\u001b[0;34m*\u001b[0m\u001b[0margs\u001b[0m\u001b[0;34m,\u001b[0m \u001b[0;34m**\u001b[0m\u001b[0mkwargs\u001b[0m\u001b[0;34m)\u001b[0m\u001b[0;34m:\u001b[0m\u001b[0;34m\u001b[0m\u001b[0m\n\u001b[0m\u001b[1;32m   1612\u001b[0m             \u001b[0mself\u001b[0m\u001b[0;34m.\u001b[0m\u001b[0madd_line\u001b[0m\u001b[0;34m(\u001b[0m\u001b[0mline\u001b[0m\u001b[0;34m)\u001b[0m\u001b[0;34m\u001b[0m\u001b[0m\n\u001b[1;32m   1613\u001b[0m             \u001b[0mlines\u001b[0m\u001b[0;34m.\u001b[0m\u001b[0mappend\u001b[0m\u001b[0;34m(\u001b[0m\u001b[0mline\u001b[0m\u001b[0;34m)\u001b[0m\u001b[0;34m\u001b[0m\u001b[0m\n",
      "\u001b[0;32m/opt/conda/envs/learn-env/lib/python3.6/site-packages/matplotlib/axes/_base.py\u001b[0m in \u001b[0;36m_grab_next_args\u001b[0;34m(self, *args, **kwargs)\u001b[0m\n\u001b[1;32m    391\u001b[0m                 \u001b[0mthis\u001b[0m \u001b[0;34m+=\u001b[0m \u001b[0margs\u001b[0m\u001b[0;34m[\u001b[0m\u001b[0;36m0\u001b[0m\u001b[0;34m]\u001b[0m\u001b[0;34m,\u001b[0m\u001b[0;34m\u001b[0m\u001b[0m\n\u001b[1;32m    392\u001b[0m                 \u001b[0margs\u001b[0m \u001b[0;34m=\u001b[0m \u001b[0margs\u001b[0m\u001b[0;34m[\u001b[0m\u001b[0;36m1\u001b[0m\u001b[0;34m:\u001b[0m\u001b[0;34m]\u001b[0m\u001b[0;34m\u001b[0m\u001b[0m\n\u001b[0;32m--> 393\u001b[0;31m             \u001b[0;32myield\u001b[0m \u001b[0;32mfrom\u001b[0m \u001b[0mself\u001b[0m\u001b[0;34m.\u001b[0m\u001b[0m_plot_args\u001b[0m\u001b[0;34m(\u001b[0m\u001b[0mthis\u001b[0m\u001b[0;34m,\u001b[0m \u001b[0mkwargs\u001b[0m\u001b[0;34m)\u001b[0m\u001b[0;34m\u001b[0m\u001b[0m\n\u001b[0m\u001b[1;32m    394\u001b[0m \u001b[0;34m\u001b[0m\u001b[0m\n\u001b[1;32m    395\u001b[0m \u001b[0;34m\u001b[0m\u001b[0m\n",
      "\u001b[0;32m/opt/conda/envs/learn-env/lib/python3.6/site-packages/matplotlib/axes/_base.py\u001b[0m in \u001b[0;36m_plot_args\u001b[0;34m(self, tup, kwargs)\u001b[0m\n\u001b[1;32m    368\u001b[0m             \u001b[0mx\u001b[0m\u001b[0;34m,\u001b[0m \u001b[0my\u001b[0m \u001b[0;34m=\u001b[0m \u001b[0mindex_of\u001b[0m\u001b[0;34m(\u001b[0m\u001b[0mtup\u001b[0m\u001b[0;34m[\u001b[0m\u001b[0;34m-\u001b[0m\u001b[0;36m1\u001b[0m\u001b[0;34m]\u001b[0m\u001b[0;34m)\u001b[0m\u001b[0;34m\u001b[0m\u001b[0m\n\u001b[1;32m    369\u001b[0m \u001b[0;34m\u001b[0m\u001b[0m\n\u001b[0;32m--> 370\u001b[0;31m         \u001b[0mx\u001b[0m\u001b[0;34m,\u001b[0m \u001b[0my\u001b[0m \u001b[0;34m=\u001b[0m \u001b[0mself\u001b[0m\u001b[0;34m.\u001b[0m\u001b[0m_xy_from_xy\u001b[0m\u001b[0;34m(\u001b[0m\u001b[0mx\u001b[0m\u001b[0;34m,\u001b[0m \u001b[0my\u001b[0m\u001b[0;34m)\u001b[0m\u001b[0;34m\u001b[0m\u001b[0m\n\u001b[0m\u001b[1;32m    371\u001b[0m \u001b[0;34m\u001b[0m\u001b[0m\n\u001b[1;32m    372\u001b[0m         \u001b[0;32mif\u001b[0m \u001b[0mself\u001b[0m\u001b[0;34m.\u001b[0m\u001b[0mcommand\u001b[0m \u001b[0;34m==\u001b[0m \u001b[0;34m'plot'\u001b[0m\u001b[0;34m:\u001b[0m\u001b[0;34m\u001b[0m\u001b[0m\n",
      "\u001b[0;32m/opt/conda/envs/learn-env/lib/python3.6/site-packages/matplotlib/axes/_base.py\u001b[0m in \u001b[0;36m_xy_from_xy\u001b[0;34m(self, x, y)\u001b[0m\n\u001b[1;32m    229\u001b[0m         \u001b[0;32mif\u001b[0m \u001b[0mx\u001b[0m\u001b[0;34m.\u001b[0m\u001b[0mshape\u001b[0m\u001b[0;34m[\u001b[0m\u001b[0;36m0\u001b[0m\u001b[0;34m]\u001b[0m \u001b[0;34m!=\u001b[0m \u001b[0my\u001b[0m\u001b[0;34m.\u001b[0m\u001b[0mshape\u001b[0m\u001b[0;34m[\u001b[0m\u001b[0;36m0\u001b[0m\u001b[0;34m]\u001b[0m\u001b[0;34m:\u001b[0m\u001b[0;34m\u001b[0m\u001b[0m\n\u001b[1;32m    230\u001b[0m             raise ValueError(\"x and y must have same first dimension, but \"\n\u001b[0;32m--> 231\u001b[0;31m                              \"have shapes {} and {}\".format(x.shape, y.shape))\n\u001b[0m\u001b[1;32m    232\u001b[0m         \u001b[0;32mif\u001b[0m \u001b[0mx\u001b[0m\u001b[0;34m.\u001b[0m\u001b[0mndim\u001b[0m \u001b[0;34m>\u001b[0m \u001b[0;36m2\u001b[0m \u001b[0;32mor\u001b[0m \u001b[0my\u001b[0m\u001b[0;34m.\u001b[0m\u001b[0mndim\u001b[0m \u001b[0;34m>\u001b[0m \u001b[0;36m2\u001b[0m\u001b[0;34m:\u001b[0m\u001b[0;34m\u001b[0m\u001b[0m\n\u001b[1;32m    233\u001b[0m             raise ValueError(\"x and y can be no greater than 2-D, but have \"\n",
      "\u001b[0;31mValueError\u001b[0m: x and y must have same first dimension, but have shapes (21,) and (1000,)"
     ]
    },
    {
     "data": {
      "image/png": "[encoded data removed]",
      "text/plain": [
       "<Figure size 432x288 with 1 Axes>"
      ]
     },
     "metadata": {
      "needs_background": "light"
     },
     "output_type": "display_data"
    }
   ],
   "source": [
    "# Calculate the normal Density function\n",
    "plt.hist(s, 20, density =True)\n",
    "plt.plot(bins, s)\n",
    "plt.show()"
   ]
  },
  {
   "cell_type": "code",
   "execution_count": 40,
   "metadata": {},
   "outputs": [],
   "source": [
    "bla= np.cumsum(np.arccos(np.arange(0,1,.01)))"
   ]
  },
  {
   "cell_type": "code",
   "execution_count": 41,
   "metadata": {
    "scrolled": false
   },
   "outputs": [
    {
     "data": {
      "text/plain": [
       "100"
      ]
     },
     "execution_count": 41,
     "metadata": {},
     "output_type": "execute_result"
    }
   ],
   "source": [
    "len(bla)"
   ]
  },
  {
   "cell_type": "code",
   "execution_count": null,
   "metadata": {},
   "outputs": [],
   "source": []
  },
  {
   "cell_type": "markdown",
   "metadata": {},
   "source": [
    "#### Plot the histogram and density function"
   ]
  },
  {
   "cell_type": "code",
   "execution_count": 44,
   "metadata": {},
   "outputs": [],
   "source": [
    "import numpy as np\n",
    "import matplotlib.pyplot as plt\n",
    "\n",
    "# some fake data\n",
    "# data = np.random.randn(1000)\n",
    "# evaluate the histogram\n",
    "values = np.arccos([0,1])\n",
    "# plt.show()"
   ]
  },
  {
   "cell_type": "code",
   "execution_count": 45,
   "metadata": {
    "scrolled": true
   },
   "outputs": [
    {
     "data": {
      "image/png": "[encoded data removed]",
      "text/plain": [
       "<Figure size 432x288 with 1 Axes>"
      ]
     },
     "metadata": {
      "needs_background": "light"
     },
     "output_type": "display_data"
    }
   ],
   "source": [
    "import matplotlib.pyplot as plt\n",
    "x = np.linspace(0, 1, num=1000)\n",
    "plt.plot(x, np.arcsin(x))\n",
    "plt.axis('tight')\n",
    "plt.show()"
   ]
  },
  {
   "cell_type": "code",
   "execution_count": 46,
   "metadata": {},
   "outputs": [],
   "source": [
    "from math import pi"
   ]
  },
  {
   "cell_type": "code",
   "execution_count": 47,
   "metadata": {},
   "outputs": [],
   "source": [
    "import matplotlib.pyplot as plt"
   ]
  },
  {
   "cell_type": "code",
   "execution_count": 48,
   "metadata": {},
   "outputs": [],
   "source": [
    "import seaborn as sns"
   ]
  },
  {
   "cell_type": "code",
   "execution_count": 56,
   "metadata": {},
   "outputs": [
    {
     "name": "stderr",
     "output_type": "stream",
     "text": [
      "/opt/conda/envs/learn-env/lib/python3.6/site-packages/ipykernel_launcher.py:1: RuntimeWarning: invalid value encountered in arcsin\n",
      "  \"\"\"Entry point for launching an IPython kernel.\n"
     ]
    },
    {
     "ename": "TypeError",
     "evalue": "'module' object is not callable",
     "output_type": "error",
     "traceback": [
      "\u001b[0;31m\u001b[0m",
      "\u001b[0;31mTypeError\u001b[0mTraceback (most recent call last)",
      "\u001b[0;32m<ipython-input-56-b6c319244a13>\u001b[0m in \u001b[0;36m<module>\u001b[0;34m()\u001b[0m\n\u001b[0;32m----> 1\u001b[0;31m \u001b[0msns\u001b[0m\u001b[0;34m.\u001b[0m\u001b[0mdistributions\u001b[0m\u001b[0;34m(\u001b[0m\u001b[0mnp\u001b[0m\u001b[0;34m.\u001b[0m\u001b[0marcsin\u001b[0m\u001b[0;34m(\u001b[0m\u001b[0mnp\u001b[0m\u001b[0;34m.\u001b[0m\u001b[0marange\u001b[0m\u001b[0;34m(\u001b[0m\u001b[0;34m-\u001b[0m\u001b[0;36m1\u001b[0m\u001b[0;34m,\u001b[0m\u001b[0;36m2\u001b[0m\u001b[0;34m,\u001b[0m\u001b[0;36m.001\u001b[0m\u001b[0;34m)\u001b[0m\u001b[0;34m)\u001b[0m\u001b[0;34m)\u001b[0m\u001b[0;34m\u001b[0m\u001b[0m\n\u001b[0m",
      "\u001b[0;31mTypeError\u001b[0m: 'module' object is not callable"
     ]
    }
   ],
   "source": [
    "sns.distributions(np.arcsin(np.arange(0,1,.001)))"
   ]
  },
  {
   "cell_type": "code",
   "execution_count": 36,
   "metadata": {
    "scrolled": false
   },
   "outputs": [
    {
     "data": {
      "image/png": "[encoded data removed]",
      "text/plain": [
       "<Figure size 432x288 with 1 Axes>"
      ]
     },
     "metadata": {
      "needs_background": "light"
     },
     "output_type": "display_data"
    }
   ],
   "source": [
    "plt.scatter(np.arange(0,1,.01),np.arcsin(np.arange(0,1,.01)));"
   ]
  },
  {
   "cell_type": "code",
   "execution_count": 77,
   "metadata": {},
   "outputs": [
    {
     "data": {
      "image/png": "[encoded data removed]",
      "text/plain": [
       "<Figure size 432x288 with 1 Axes>"
      ]
     },
     "metadata": {
      "needs_background": "light"
     },
     "output_type": "display_data"
    }
   ],
   "source": [
    "import numpy as np\n",
    "from matplotlib import pyplot as plt\n",
    "\n",
    "x = np.arange(0,1,.01)\n",
    "p = np.arcsin(np.arange(0,1,.01))\n",
    "plt.plot(x,p)\n",
    "plt.show()"
   ]
  },
  {
   "cell_type": "code",
   "execution_count": 66,
   "metadata": {},
   "outputs": [
    {
     "data": {
      "image/png": "[encoded data removed]",
      "text/plain": [
       "<Figure size 432x288 with 1 Axes>"
      ]
     },
     "metadata": {
      "needs_background": "light"
     },
     "output_type": "display_data"
    }
   ],
   "source": [
    "from scipy.stats import beta\n",
    "import matplotlib.pyplot as plt\n",
    "fig, ax = plt.subplots(1, 1)"
   ]
  },
  {
   "cell_type": "code",
   "execution_count": 38,
   "metadata": {
    "scrolled": true
   },
   "outputs": [
    {
     "data": {
      "text/plain": [
       "[<matplotlib.lines.Line2D at 0x7f4dee5e3588>]"
      ]
     },
     "execution_count": 38,
     "metadata": {},
     "output_type": "execute_result"
    },
    {
     "data": {
      "image/png": "[encoded data removed]",
      "text/plain": [
       "<Figure size 432x288 with 1 Axes>"
      ]
     },
     "metadata": {
      "needs_background": "light"
     },
     "output_type": "display_data"
    }
   ],
   "source": [
    "plt.plot(np.arcsin(np.arange(0,1,.01)))"
   ]
  },
  {
   "cell_type": "code",
   "execution_count": 39,
   "metadata": {},
   "outputs": [
    {
     "data": {
      "text/plain": [
       "(array([15., 14., 13., 13., 11., 10.,  9.,  7.,  4.,  4.]),\n",
       " array([0.        , 0.14292569, 0.28585137, 0.42877706, 0.57170274,\n",
       "        0.71462843, 0.85755411, 1.0004798 , 1.14340548, 1.28633117,\n",
       "        1.42925685]),\n",
       " <a list of 10 Patch objects>)"
      ]
     },
     "execution_count": 39,
     "metadata": {},
     "output_type": "execute_result"
    },
    {
     "data": {
      "image/png": "[encoded data removed]",
      "text/plain": [
       "<Figure size 432x288 with 1 Axes>"
      ]
     },
     "metadata": {
      "needs_background": "light"
     },
     "output_type": "display_data"
    }
   ],
   "source": [
    "plt.hist(np.arcsin(np.arange(0,1,.01)))"
   ]
  },
  {
   "cell_type": "code",
   "execution_count": 14,
   "metadata": {},
   "outputs": [
    {
     "data": {
      "text/plain": [
       "array([1.57079633, 1.47062891, 1.36943841, 1.26610367, 1.15927948,\n",
       "       1.04719755, 0.92729522, 0.79539883, 0.64350111, 0.45102681])"
      ]
     },
     "execution_count": 14,
     "metadata": {},
     "output_type": "execute_result"
    }
   ],
   "source": [
    "np.arccos(np.arange(0,1,.1))"
   ]
  },
  {
   "cell_type": "code",
   "execution_count": 10,
   "metadata": {},
   "outputs": [],
   "source": [
    "import numpy as np"
   ]
  },
  {
   "cell_type": "code",
   "execution_count": 13,
   "metadata": {
    "scrolled": true
   },
   "outputs": [
    {
     "data": {
      "text/plain": [
       "array([0. , 0.1, 0.2, 0.3, 0.4, 0.5, 0.6, 0.7, 0.8, 0.9])"
      ]
     },
     "execution_count": 13,
     "metadata": {},
     "output_type": "execute_result"
    }
   ],
   "source": [
    "np.arange(0,1,.1)"
   ]
  },
  {
   "cell_type": "code",
   "execution_count": 82,
   "metadata": {},
   "outputs": [
    {
     "name": "stdout",
     "output_type": "stream",
     "text": [
      "Help on class range in module builtins:\n",
      "\n",
      "class range(object)\n",
      " |  range(stop) -> range object\n",
      " |  range(start, stop[, step]) -> range object\n",
      " |  \n",
      " |  Return an object that produces a sequence of integers from start (inclusive)\n",
      " |  to stop (exclusive) by step.  range(i, j) produces i, i+1, i+2, ..., j-1.\n",
      " |  start defaults to 0, and stop is omitted!  range(4) produces 0, 1, 2, 3.\n",
      " |  These are exactly the valid indices for a list of 4 elements.\n",
      " |  When step is given, it specifies the increment (or decrement).\n",
      " |  \n",
      " |  Methods defined here:\n",
      " |  \n",
      " |  __bool__(self, /)\n",
      " |      self != 0\n",
      " |  \n",
      " |  __contains__(self, key, /)\n",
      " |      Return key in self.\n",
      " |  \n",
      " |  __eq__(self, value, /)\n",
      " |      Return self==value.\n",
      " |  \n",
      " |  __ge__(self, value, /)\n",
      " |      Return self>=value.\n",
      " |  \n",
      " |  __getattribute__(self, name, /)\n",
      " |      Return getattr(self, name).\n",
      " |  \n",
      " |  __getitem__(self, key, /)\n",
      " |      Return self[key].\n",
      " |  \n",
      " |  __gt__(self, value, /)\n",
      " |      Return self>value.\n",
      " |  \n",
      " |  __hash__(self, /)\n",
      " |      Return hash(self).\n",
      " |  \n",
      " |  __iter__(self, /)\n",
      " |      Implement iter(self).\n",
      " |  \n",
      " |  __le__(self, value, /)\n",
      " |      Return self<=value.\n",
      " |  \n",
      " |  __len__(self, /)\n",
      " |      Return len(self).\n",
      " |  \n",
      " |  __lt__(self, value, /)\n",
      " |      Return self<value.\n",
      " |  \n",
      " |  __ne__(self, value, /)\n",
      " |      Return self!=value.\n",
      " |  \n",
      " |  __new__(*args, **kwargs) from builtins.type\n",
      " |      Create and return a new object.  See help(type) for accurate signature.\n",
      " |  \n",
      " |  __reduce__(...)\n",
      " |      helper for pickle\n",
      " |  \n",
      " |  __repr__(self, /)\n",
      " |      Return repr(self).\n",
      " |  \n",
      " |  __reversed__(...)\n",
      " |      Return a reverse iterator.\n",
      " |  \n",
      " |  count(...)\n",
      " |      rangeobject.count(value) -> integer -- return number of occurrences of value\n",
      " |  \n",
      " |  index(...)\n",
      " |      rangeobject.index(value, [start, [stop]]) -> integer -- return index of value.\n",
      " |      Raise ValueError if the value is not present.\n",
      " |  \n",
      " |  ----------------------------------------------------------------------\n",
      " |  Data descriptors defined here:\n",
      " |  \n",
      " |  start\n",
      " |  \n",
      " |  step\n",
      " |  \n",
      " |  stop\n",
      "\n"
     ]
    }
   ],
   "source": [
    "help(range)"
   ]
  },
  {
   "cell_type": "code",
   "execution_count": 78,
   "metadata": {},
   "outputs": [
    {
     "name": "stdout",
     "output_type": "stream",
     "text": [
      "Help on function scatter in module matplotlib.pyplot:\n",
      "\n",
      "scatter(x, y, s=None, c=None, marker=None, cmap=None, norm=None, vmin=None, vmax=None, alpha=None, linewidths=None, verts=None, edgecolors=None, *, data=None, **kwargs)\n",
      "    A scatter plot of *y* vs *x* with varying marker size and/or color.\n",
      "    \n",
      "    Parameters\n",
      "    ----------\n",
      "    x, y : array_like, shape (n, )\n",
      "        The data positions.\n",
      "    \n",
      "    s : scalar or array_like, shape (n, ), optional\n",
      "        The marker size in points**2.\n",
      "        Default is ``rcParams['lines.markersize'] ** 2``.\n",
      "    \n",
      "    c : color, sequence, or sequence of color, optional\n",
      "        The marker color. Possible values:\n",
      "    \n",
      "        - A single color format string.\n",
      "        - A sequence of color specifications of length n.\n",
      "        - A sequence of n numbers to be mapped to colors using *cmap* and\n",
      "          *norm*.\n",
      "        - A 2-D array in which the rows are RGB or RGBA.\n",
      "    \n",
      "        Note that *c* should not be a single numeric RGB or RGBA sequence\n",
      "        because that is indistinguishable from an array of values to be\n",
      "        colormapped. If you want to specify the same RGB or RGBA value for\n",
      "        all points, use a 2-D array with a single row.  Otherwise, value-\n",
      "        matching will have precedence in case of a size matching with *x*\n",
      "        and *y*.\n",
      "    \n",
      "        Defaults to ``None``. In that case the marker color is determined\n",
      "        by the value of ``color``, ``facecolor`` or ``facecolors``. In case\n",
      "        those are not specified or ``None``, the marker color is determined\n",
      "        by the next color of the ``Axes``' current \"shape and fill\" color\n",
      "        cycle. This cycle defaults to :rc:`axes.prop_cycle`.\n",
      "    \n",
      "    marker : `~matplotlib.markers.MarkerStyle`, optional\n",
      "        The marker style. *marker* can be either an instance of the class\n",
      "        or the text shorthand for a particular marker.\n",
      "        Defaults to ``None``, in which case it takes the value of\n",
      "        :rc:`scatter.marker` = 'o'.\n",
      "        See `~matplotlib.markers` for more information about marker styles.\n",
      "    \n",
      "    cmap : `~matplotlib.colors.Colormap`, optional, default: None\n",
      "        A `.Colormap` instance or registered colormap name. *cmap* is only\n",
      "        used if *c* is an array of floats. If ``None``, defaults to rc\n",
      "        ``image.cmap``.\n",
      "    \n",
      "    norm : `~matplotlib.colors.Normalize`, optional, default: None\n",
      "        A `.Normalize` instance is used to scale luminance data to 0, 1.\n",
      "        *norm* is only used if *c* is an array of floats. If *None*, use\n",
      "        the default `.colors.Normalize`.\n",
      "    \n",
      "    vmin, vmax : scalar, optional, default: None\n",
      "        *vmin* and *vmax* are used in conjunction with *norm* to normalize\n",
      "        luminance data. If None, the respective min and max of the color\n",
      "        array is used. *vmin* and *vmax* are ignored if you pass a *norm*\n",
      "        instance.\n",
      "    \n",
      "    alpha : scalar, optional, default: None\n",
      "        The alpha blending value, between 0 (transparent) and 1 (opaque).\n",
      "    \n",
      "    linewidths : scalar or array_like, optional, default: None\n",
      "        The linewidth of the marker edges. Note: The default *edgecolors*\n",
      "        is 'face'. You may want to change this as well.\n",
      "        If *None*, defaults to rcParams ``lines.linewidth``.\n",
      "    \n",
      "    edgecolors : color or sequence of color, optional, default: 'face'\n",
      "        The edge color of the marker. Possible values:\n",
      "    \n",
      "        - 'face': The edge color will always be the same as the face color.\n",
      "        - 'none': No patch boundary will be drawn.\n",
      "        - A matplotib color.\n",
      "    \n",
      "        For non-filled markers, the *edgecolors* kwarg is ignored and\n",
      "        forced to 'face' internally.\n",
      "    \n",
      "    Returns\n",
      "    -------\n",
      "    paths : `~matplotlib.collections.PathCollection`\n",
      "    \n",
      "    Other Parameters\n",
      "    ----------------\n",
      "    **kwargs : `~matplotlib.collections.Collection` properties\n",
      "    \n",
      "    See Also\n",
      "    --------\n",
      "    plot : To plot scatter plots when markers are identical in size and\n",
      "        color.\n",
      "    \n",
      "    Notes\n",
      "    -----\n",
      "    \n",
      "    * The `.plot` function will be faster for scatterplots where markers\n",
      "      don't vary in size or color.\n",
      "    \n",
      "    * Any or all of *x*, *y*, *s*, and *c* may be masked arrays, in which\n",
      "      case all masks will be combined and only unmasked points will be\n",
      "      plotted.\n",
      "    \n",
      "    * Fundamentally, scatter works with 1-D arrays; *x*, *y*, *s*, and *c*\n",
      "      may be input as 2-D arrays, but within scatter they will be\n",
      "      flattened. The exception is *c*, which will be flattened only if its\n",
      "      size matches the size of *x* and *y*.\n",
      "    \n",
      "    .. note::\n",
      "        In addition to the above described arguments, this function can take a\n",
      "        **data** keyword argument. If such a **data** argument is given, the\n",
      "        following arguments are replaced by **data[<arg>]**:\n",
      "    \n",
      "        * All arguments with the following names: 'c', 'color', 'edgecolors', 'facecolor', 'facecolors', 'linewidths', 's', 'x', 'y'.\n",
      "    \n",
      "        Objects passed as **data** must support item access (``data[<arg>]``) and\n",
      "        membership test (``<arg> in data``).\n",
      "\n"
     ]
    }
   ],
   "source": [
    "help(plt.scatter)"
   ]
  },
  {
   "cell_type": "markdown",
   "metadata": {},
   "source": [
    "#### Visualize the distribution using seaborn and plot the KDE"
   ]
  },
  {
   "cell_type": "code",
   "execution_count": 67,
   "metadata": {},
   "outputs": [],
   "source": [
    "import seaborn as sns"
   ]
  },
  {
   "cell_type": "code",
   "execution_count": 68,
   "metadata": {},
   "outputs": [
    {
     "name": "stderr",
     "output_type": "stream",
     "text": [
      "/opt/conda/envs/learn-env/lib/python3.6/site-packages/scipy/stats/stats.py:1713: FutureWarning: Using a non-tuple sequence for multidimensional indexing is deprecated; use `arr[tuple(seq)]` instead of `arr[seq]`. In the future this will be interpreted as an array index, `arr[np.array(seq)]`, which will result either in an error or a different result.\n",
      "  return np.add.reduce(sorted[indexer] * weights, axis=axis) / sumval\n"
     ]
    },
    {
     "data": {
      "image/png": "[encoded data removed]",
      "text/plain": [
       "<Figure size 432x288 with 1 Axes>"
      ]
     },
     "metadata": {
      "needs_background": "light"
     },
     "output_type": "display_data"
    }
   ],
   "source": [
    "sns.distplot(s, bins=20, kde= True);"
   ]
  },
  {
   "cell_type": "code",
   "execution_count": 12,
   "metadata": {},
   "outputs": [
    {
     "data": {
      "text/plain": [
       "<matplotlib.axes._subplots.AxesSubplot at 0x1a19d4cda0>"
      ]
     },
     "execution_count": 12,
     "metadata": {},
     "output_type": "execute_result"
    },
    {
     "data": {
      "image/png": "[encoded data removed]",
      "text/plain": [
       "<matplotlib.figure.Figure at 0x109bb4240>"
      ]
     },
     "metadata": {},
     "output_type": "display_data"
    }
   ],
   "source": []
  },
  {
   "cell_type": "code",
   "execution_count": 76,
   "metadata": {},
   "outputs": [
    {
     "data": {
      "image/png": "[encoded data removed]",
      "text/plain": [
       "<Figure size 432x288 with 1 Axes>"
      ]
     },
     "metadata": {
      "needs_background": "light"
     },
     "output_type": "display_data"
    }
   ],
   "source": [
    "from scipy.stats import beta\n",
    "import matplotlib.pyplot as plt\n",
    "fig, ax = plt.subplots(1, 1)\n",
    "\n",
    "a, b = 0.5, 0.5\n",
    "mean, var, skew, kurt = beta.stats(a, b, moments='mvsk')\n",
    "\n",
    "x = np.linspace(beta.ppf(0.01, a, b), beta.ppf(0.99, a, b), 100)\n",
    "ax.plot(x, beta.pdf(x, a, b),'r-', lw=5, alpha=0.5, label='beta pdf');"
   ]
  },
  {
   "cell_type": "markdown",
   "metadata": {},
   "source": [
    "## Summary\n",
    "\n",
    "In this lab we saw how to generate random normal distributions in python using numpy. We also looked into calculating the density for gaussian distributions using the general formula as well as seaborn's kde. We shall now move on to see how we can analyze such variables for answering analytical questions. "
   ]
  }
 ],
 "metadata": {
  "kernelspec": {
   "display_name": "Python 3",
   "language": "python",
   "name": "python3"
  },
  "language_info": {
   "codemirror_mode": {
    "name": "ipython",
    "version": 3
   },
   "file_extension": ".py",
   "mimetype": "text/x-python",
   "name": "python",
   "nbconvert_exporter": "python",
   "pygments_lexer": "ipython3",
   "version": "3.6.6"
  }
 },
 "nbformat": 4,
 "nbformat_minor": 2
}
